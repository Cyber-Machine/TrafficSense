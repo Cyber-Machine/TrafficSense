{
  "cells": [
    {
      "cell_type": "markdown",
      "metadata": {
        "id": "6zi8MW_UfMVP"
      },
      "source": [
        "# Traffic Pose Detection on Indian Roads using Tensorflow & Tensorflow Lite"
      ]
    },
    {
      "cell_type": "markdown",
      "metadata": {
        "id": "KCHc4FtEcobN"
      },
      "source": [
        "#### Data Preparation\n",
        "Preprocess the training images into a CSV file that contains the label (class name) and the landmark coordinates of different parts of the human body."
      ]
    },
    {
      "cell_type": "markdown",
      "metadata": {
        "id": "PSvPDh8NdRFh"
      },
      "source": [
        "#### Import necessary libraries"
      ]
    },
    {
      "cell_type": "code",
      "execution_count": 36,
      "metadata": {
        "id": "Op8dsoKIc-wd"
      },
      "outputs": [],
      "source": [
        "!pip install -q opencv-python"
      ]
    },
    {
      "cell_type": "code",
      "execution_count": 37,
      "metadata": {
        "id": "UJSU1JbzdEa1"
      },
      "outputs": [],
      "source": [
        "import csv\n",
        "import cv2\n",
        "import itertools\n",
        "import numpy as np\n",
        "import pandas as pd\n",
        "import os\n",
        "import sys\n",
        "import tempfile\n",
        "import tqdm\n",
        "\n",
        "from matplotlib import pyplot as plt\n",
        "from matplotlib.collections import LineCollection\n",
        "\n",
        "import tensorflow as tf\n",
        "import tensorflow_hub as hub\n",
        "from tensorflow import keras\n",
        "\n",
        "from sklearn.model_selection import train_test_split\n",
        "from sklearn.metrics import accuracy_score, classification_report, confusion_matrix"
      ]
    },
    {
      "cell_type": "markdown",
      "metadata": {
        "id": "5HsgVJDwdbCv"
      },
      "source": [
        "#### Run pose estimation using MoveNet - a pretrained model to detect human poses"
      ]
    },
    {
      "cell_type": "code",
      "execution_count": 38,
      "metadata": {
        "colab": {
          "base_uri": "https://localhost:8080/"
        },
        "id": "m0L10w_7dKNT",
        "outputId": "11e57916-b08f-41f0-f61e-3ba4fcea077b"
      },
      "outputs": [
        {
          "name": "stdout",
          "output_type": "stream",
          "text": [
            "fatal: destination path 'examples' already exists and is not an empty directory.\n"
          ]
        }
      ],
      "source": [
        "# Download model from TF Hub and check out inference code from GitHub\n",
        "!wget -q -O movenet_thunder.tflite https://tfhub.dev/google/lite-model/movenet/singlepose/thunder/tflite/float16/4?lite-format=tflite\n",
        "!git clone https://github.com/tensorflow/examples.git\n",
        "pose_sample_rpi_path = os.path.join(os.getcwd(), 'examples/lite/examples/pose_estimation/raspberry_pi')\n",
        "sys.path.append(pose_sample_rpi_path)\n",
        "\n",
        "# Load MoveNet Thunder model\n",
        "import utils\n",
        "from data import BodyPart\n",
        "from ml import Movenet\n",
        "movenet = Movenet('movenet_thunder')\n",
        "\n",
        "# Define function to run pose estimation using MoveNet Thunder.\n",
        "# You'll apply MoveNet's cropping algorithm and run inference multiple times on\n",
        "# the input image to improve pose estimation accuracy.\n",
        "def detect(input_tensor, inference_count=3):\n",
        "  \"\"\"Runs detection on an input image.\n",
        " \n",
        "  Args:\n",
        "    input_tensor: A [height, width, 3] Tensor of type tf.float32.\n",
        "      Note that height and width can be anything since the image will be\n",
        "      immediately resized according to the needs of the model within this\n",
        "      function.\n",
        "    inference_count: Number of times the model should run repeatly on the\n",
        "      same input image to improve detection accuracy.\n",
        " \n",
        "  Returns:\n",
        "    A Person entity detected by the MoveNet.SinglePose.\n",
        "  \"\"\"\n",
        "  image_height, image_width, channel = input_tensor.shape\n",
        " \n",
        "  # Detect pose using the full input image\n",
        "  movenet.detect(input_tensor.numpy(), reset_crop_region=True)\n",
        " \n",
        "  # Repeatedly using previous detection result to identify the region of\n",
        "  # interest and only croping that region to improve detection accuracy\n",
        "  for _ in range(inference_count - 1):\n",
        "    person = movenet.detect(input_tensor.numpy(), \n",
        "                            reset_crop_region=False)\n",
        "\n",
        "  return person"
      ]
    },
    {
      "cell_type": "code",
      "execution_count": 39,
      "metadata": {
        "colab": {
          "base_uri": "https://localhost:8080/"
        },
        "id": "w3KpTN8FR9Hh",
        "outputId": "c4c34d05-14e3-4dd8-b710-8b4b9ad667b6"
      },
      "outputs": [
        {
          "name": "stdout",
          "output_type": "stream",
          "text": [
            "Drive already mounted at /content/gdrive; to attempt to forcibly remount, call drive.mount(\"/content/gdrive\", force_remount=True).\n"
          ]
        }
      ],
      "source": [
        "from google.colab import drive\n",
        "drive.mount('/content/gdrive')"
      ]
    },
    {
      "cell_type": "code",
      "execution_count": 77,
      "metadata": {
        "colab": {
          "base_uri": "https://localhost:8080/"
        },
        "id": "zLv7-ZW8TFjc",
        "outputId": "f6ba553e-20fc-4a06-a093-6adca5205117"
      },
      "outputs": [
        {
          "name": "stdout",
          "output_type": "stream",
          "text": [
            "Archive:  gdrive/MyDrive/traffic_hand_poses.zip\n",
            "replace traffic_hand_poses/behind/behind_006.jpg.png? [y]es, [n]o, [A]ll, [N]one, [r]ename: A\n",
            "  inflating: traffic_hand_poses/behind/behind_006.jpg.png  \n",
            "  inflating: traffic_hand_poses/behind/Behind_003.png  \n",
            "  inflating: traffic_hand_poses/behind/behind_001.png  \n",
            "  inflating: traffic_hand_poses/behind/Behind_004.png  \n",
            "  inflating: traffic_hand_poses/behind/Behind_002.png  \n",
            "  inflating: traffic_hand_poses/behind/Behind_003_augment_1.png  \n",
            "  inflating: traffic_hand_poses/behind/behind_006_augment_1.png  \n",
            "  inflating: traffic_hand_poses/behind/behind_001_augment_1.png  \n",
            "  inflating: traffic_hand_poses/behind/Behind_004_augment_1.png  \n",
            "  inflating: traffic_hand_poses/behind/Behind_002_augment_1.png  \n",
            "  inflating: traffic_hand_poses/behind/Behind_002_augment_1_augment_2.png  \n",
            "  inflating: traffic_hand_poses/behind/Behind_003_augment_1_augment_2.png  \n",
            "  inflating: traffic_hand_poses/behind/Behind_004_augment_1_augment_2.png  \n",
            "  inflating: traffic_hand_poses/behind/Behind_003_augment_2.png  \n",
            "  inflating: traffic_hand_poses/behind/behind_006_augment_2.png  \n",
            "  inflating: traffic_hand_poses/behind/behind_001_augment_2.png  \n",
            "  inflating: traffic_hand_poses/behind/behind_006_augment_1_augment_2.png  \n",
            "  inflating: traffic_hand_poses/behind/Behind_004_augment_2.png  \n",
            "  inflating: traffic_hand_poses/behind/Behind_005_augment_2.png  \n",
            "  inflating: traffic_hand_poses/behind/behind_001_augment_1_augment_2.png  \n",
            "  inflating: traffic_hand_poses/behind/Behind_002_augment_2.png  \n",
            "  inflating: traffic_hand_poses/behind/Behind_002_augment_1_augment_2_augment_3.png  \n",
            "  inflating: traffic_hand_poses/behind/Behind_002_augment_1_augment_3.png  \n",
            "  inflating: traffic_hand_poses/behind/Behind_003_augment_1_augment_3.png  \n",
            "  inflating: traffic_hand_poses/behind/Behind_004_augment_1_augment_3.png  \n",
            "  inflating: traffic_hand_poses/behind/behind_006_augment_2_augment_3.png  \n",
            "  inflating: traffic_hand_poses/behind/Behind_003_augment_1_augment_2_augment_3.png  \n",
            "  inflating: traffic_hand_poses/behind/Behind_003_augment_3.png  \n",
            "  inflating: traffic_hand_poses/behind/Behind_004_augment_1_augment_2_augment_3.png  \n",
            "  inflating: traffic_hand_poses/behind/Behind_005_augment_2_augment_3.png  \n",
            "  inflating: traffic_hand_poses/behind/behind_006_augment_3.png  \n",
            "  inflating: traffic_hand_poses/behind/Behind_002_augment_2_augment_3.png  \n",
            "  inflating: traffic_hand_poses/behind/behind_006_augment_1_augment_3.png  \n",
            "  inflating: traffic_hand_poses/behind/Behind_004_augment_2_augment_3.png  \n",
            "  inflating: traffic_hand_poses/behind/behind_001_augment_2_augment_3.png  \n",
            "  inflating: traffic_hand_poses/behind/Behind_004_augment_3.png  \n",
            "  inflating: traffic_hand_poses/behind/Behind_003_augment_2_augment_3.png  \n",
            "  inflating: traffic_hand_poses/behind/behind_001_augment_1_augment_3.png  \n",
            "  inflating: traffic_hand_poses/behind/Behind_002_augment_3.png  \n",
            "  inflating: traffic_hand_poses/front/img_006.jpg.png  \n",
            "  inflating: traffic_hand_poses/front/img_004.png  \n",
            "  inflating: traffic_hand_poses/front/img_001.png  \n",
            "  inflating: traffic_hand_poses/front/img_005.png  \n",
            "  inflating: traffic_hand_poses/front/img_002.png  \n",
            "  inflating: traffic_hand_poses/front/img_004_augment_1.png  \n",
            "  inflating: traffic_hand_poses/front/img_001_augment_1.png  \n",
            "  inflating: traffic_hand_poses/front/img_003_augment_1.png  \n",
            "  inflating: traffic_hand_poses/front/img_005_augment_1.png  \n",
            "  inflating: traffic_hand_poses/front/img_002_augment_1.png  \n",
            "  inflating: traffic_hand_poses/front/img_006_augment_1.png  \n",
            "  inflating: traffic_hand_poses/front/img_003_augment_2.png  \n",
            "  inflating: traffic_hand_poses/front/img_005_augment_2.png  \n",
            "  inflating: traffic_hand_poses/front/img_006_augment_1_augment_2.png  \n",
            "  inflating: traffic_hand_poses/front/img_005_augment_1_augment_2.png  \n",
            "  inflating: traffic_hand_poses/front/img_002_augment_2.png  \n",
            "  inflating: traffic_hand_poses/front/img_001_augment_1_augment_2.png  \n",
            "  inflating: traffic_hand_poses/front/img_006_augment_2.png  \n",
            "  inflating: traffic_hand_poses/front/img_002_augment_1_augment_3.png  \n",
            "  inflating: traffic_hand_poses/front/img_003_augment_2_augment_3.png  \n",
            "  inflating: traffic_hand_poses/front/img_003_augment_3.png  \n",
            "  inflating: traffic_hand_poses/front/img_005_augment_3.png  \n",
            "  inflating: traffic_hand_poses/front/img_006_augment_1_augment_3.png  \n",
            "  inflating: traffic_hand_poses/front/img_005_augment_1_augment_3.png  \n",
            "  inflating: traffic_hand_poses/front/img_006_augment_1_augment_2_augment_3.png  \n",
            "  inflating: traffic_hand_poses/front/img_006_augment_3.png  \n",
            "  inflating: traffic_hand_poses/front/img_002_augment_2_augment_3.png  \n",
            "  inflating: traffic_hand_poses/front/img_006_augment_2_augment_3.png  \n",
            "  inflating: traffic_hand_poses/left/left_006.jpg.png  \n",
            "  inflating: traffic_hand_poses/left/left_001.png  \n",
            "  inflating: traffic_hand_poses/left/left_004.png  \n",
            "  inflating: traffic_hand_poses/left/left_003.png  \n",
            "  inflating: traffic_hand_poses/left/left_002.png  \n",
            "  inflating: traffic_hand_poses/left/left_005.png  \n",
            "  inflating: traffic_hand_poses/left/left_006_augment_1.png  \n",
            "  inflating: traffic_hand_poses/left/left_001_augment_1.png  \n",
            "  inflating: traffic_hand_poses/left/left_004_augment_1.png  \n",
            "  inflating: traffic_hand_poses/left/left_002_augment_1.png  \n",
            "  inflating: traffic_hand_poses/left/left_005_augment_1.png  \n",
            "  inflating: traffic_hand_poses/left/left_006_augment_2.png  \n",
            "  inflating: traffic_hand_poses/left/left_004_augment_1_augment_2.png  \n",
            "  inflating: traffic_hand_poses/left/left_001_augment_1_augment_2.png  \n",
            "  inflating: traffic_hand_poses/left/left_001_augment_2.png  \n",
            "  inflating: traffic_hand_poses/left/left_005_augment_1_augment_2.png  \n",
            "  inflating: traffic_hand_poses/left/left_004_augment_2.png  \n",
            "  inflating: traffic_hand_poses/left/left_006_augment_1_augment_2.png  \n",
            "  inflating: traffic_hand_poses/left/left_002_augment_1_augment_2.png  \n",
            "  inflating: traffic_hand_poses/left/left_005_augment_2.png  \n",
            "  inflating: traffic_hand_poses/left/left_006_augment_3.png  \n",
            "  inflating: traffic_hand_poses/left/left_004_augment_1_augment_3.png  \n",
            "  inflating: traffic_hand_poses/left/left_001_augment_3.png  \n",
            "  inflating: traffic_hand_poses/left/left_005_augment_1_augment_3.png  \n",
            "  inflating: traffic_hand_poses/left/left_004_augment_2_augment_3.png  \n",
            "  inflating: traffic_hand_poses/left/left_004_augment_3.png  \n",
            "  inflating: traffic_hand_poses/left/left_004_augment_1_augment_2_augment_3.png  \n",
            "  inflating: traffic_hand_poses/left/left_006_augment_1_augment_3.png  \n",
            "  inflating: traffic_hand_poses/left/left_006_augment_1_augment_2_augment_3.png  \n",
            "  inflating: traffic_hand_poses/left/left_002_augment_3.png  \n",
            "  inflating: traffic_hand_poses/left/left_005_augment_1_augment_2_augment_3.png  \n",
            "  inflating: traffic_hand_poses/left/left_002_augment_1_augment_2_augment_3.png  \n",
            "  inflating: traffic_hand_poses/left/left_005_augment_3.png  \n",
            "  inflating: traffic_hand_poses/left/left_001_augment_2_augment_3.png  \n",
            "  inflating: traffic_hand_poses/left/left_005_augment_2_augment_3.png  \n",
            "  inflating: traffic_hand_poses/left/left_006_augment_2_augment_3.png  \n",
            "  inflating: traffic_hand_poses/close/close_002.jpg.png  \n",
            "  inflating: traffic_hand_poses/close/close_007.png  \n",
            "  inflating: traffic_hand_poses/close/close_006.png  \n",
            "  inflating: traffic_hand_poses/close/close_005.png  \n",
            "  inflating: traffic_hand_poses/close/close_001.png  \n",
            "  inflating: traffic_hand_poses/close/clsoe_004.png  \n",
            "  inflating: traffic_hand_poses/close/close_002_augment_1.png  \n",
            "  inflating: traffic_hand_poses/close/close_006_augment_1.png  \n",
            "  inflating: traffic_hand_poses/close/close_001_augment_1.png  \n",
            "  inflating: traffic_hand_poses/close/clsoe_004_augment_1.png  \n",
            "  inflating: traffic_hand_poses/close/close_007_augment_2.png  \n",
            "  inflating: traffic_hand_poses/close/close_002_augment_2.png  \n",
            "  inflating: traffic_hand_poses/close/close_001_augment_1_augment_2.png  \n",
            "  inflating: traffic_hand_poses/close/close_005_augment_1_augment_2.png  \n",
            "  inflating: traffic_hand_poses/close/clsoe_004_augment_1_augment_2.png  \n",
            "  inflating: traffic_hand_poses/close/close_006_augment_1_augment_2.png  \n",
            "  inflating: traffic_hand_poses/close/close_006_augment_2.png  \n",
            "  inflating: traffic_hand_poses/close/close_005_augment_2.png  \n",
            "  inflating: traffic_hand_poses/close/close_001_augment_2.png  \n",
            "  inflating: traffic_hand_poses/close/close_007_augment_1_augment_2.png  \n",
            "  inflating: traffic_hand_poses/close/clsoe_004_augment_2.png  \n",
            "  inflating: traffic_hand_poses/close/close_002_augment_1_augment_2.png  \n",
            "  inflating: traffic_hand_poses/close/close_007_augment_3.png  \n",
            "  inflating: traffic_hand_poses/close/close_002_augment_3.png  \n",
            "  inflating: traffic_hand_poses/close/close_007_augment_2_augment_3.png  \n",
            "  inflating: traffic_hand_poses/close/close_001_augment_1_augment_3.png  \n",
            "  inflating: traffic_hand_poses/close/close_005_augment_1_augment_2_augment_3.png  \n",
            "  inflating: traffic_hand_poses/close/close_005_augment_1_augment_3.png  \n",
            "  inflating: traffic_hand_poses/close/clsoe_004_augment_1_augment_3.png  \n",
            "  inflating: traffic_hand_poses/close/close_005_augment_2_augment_3.png  \n",
            "  inflating: traffic_hand_poses/close/close_006_augment_1_augment_3.png  \n",
            "  inflating: traffic_hand_poses/close/close_006_augment_3.png  \n",
            "  inflating: traffic_hand_poses/close/close_005_augment_3.png  \n",
            "  inflating: traffic_hand_poses/close/close_001_augment_1_augment_2_augment_3.png  \n",
            "  inflating: traffic_hand_poses/close/close_001_augment_3.png  \n",
            "  inflating: traffic_hand_poses/close/close_002_augment_1_augment_2_augment_3.png  \n",
            "  inflating: traffic_hand_poses/close/close_002_augment_2_augment_3.png  \n",
            "  inflating: traffic_hand_poses/close/clsoe_004_augment_1_augment_2_augment_3.png  \n",
            "  inflating: traffic_hand_poses/close/close_007_augment_1_augment_3.png  \n",
            "  inflating: traffic_hand_poses/close/clsoe_004_augment_3.png  \n",
            "  inflating: traffic_hand_poses/close/close_001_augment_2_augment_3.png  \n",
            "  inflating: traffic_hand_poses/close/close_006_augment_1_augment_2_augment_3.png  \n",
            "  inflating: traffic_hand_poses/close/close_002_augment_1_augment_3.png  \n",
            "  inflating: traffic_hand_poses/close/close_006_augment_2_augment_3.png  \n",
            "  inflating: traffic_hand_poses/frandbk/frandbk_005.jpg.png  \n",
            "  inflating: traffic_hand_poses/frandbk/frandbk_007.png  \n",
            "  inflating: traffic_hand_poses/frandbk/frandbk_002.png  \n",
            "  inflating: traffic_hand_poses/frandbk/frandbk_003.png  \n",
            "  inflating: traffic_hand_poses/frandbk/frandbk_001.png  \n",
            "  inflating: traffic_hand_poses/frandbk/frandbk_004.png  \n",
            "  inflating: traffic_hand_poses/frandbk/frandbk_007_augment_1.png  \n",
            "  inflating: traffic_hand_poses/frandbk/frandbk_002_augment_1.png  \n",
            "  inflating: traffic_hand_poses/frandbk/frandbk_003_augment_1.png  \n",
            "  inflating: traffic_hand_poses/frandbk/frandbk_001_augment_1.png  \n",
            "  inflating: traffic_hand_poses/frandbk/frandbk_005_augment_1.png  \n",
            "  inflating: traffic_hand_poses/frandbk/frandbk_004_augment_1.png  \n",
            "  inflating: traffic_hand_poses/frandbk/frandbk_007_augment_2.png  \n",
            "  inflating: traffic_hand_poses/frandbk/frandbk_002_augment_1_augment_2.png  \n",
            "  inflating: traffic_hand_poses/frandbk/frandbk_004_augment_1_augment_2.png  \n",
            "  inflating: traffic_hand_poses/frandbk/frandbk_003_augment_1_augment_2.png  \n",
            "  inflating: traffic_hand_poses/frandbk/frandbk_005_augment_1_augment_2.png  \n",
            "  inflating: traffic_hand_poses/frandbk/frandbk_002_augment_2.png  \n",
            "  inflating: traffic_hand_poses/frandbk/frandbk_003_augment_2.png  \n",
            "  inflating: traffic_hand_poses/frandbk/frandbk_001_augment_2.png  \n",
            "  inflating: traffic_hand_poses/frandbk/frandbk_005_augment_2.png  \n",
            "  inflating: traffic_hand_poses/frandbk/frandbk_001_augment_1_augment_2.png  \n",
            "  inflating: traffic_hand_poses/frandbk/frandbk_007_augment_1_augment_2.png  \n",
            "  inflating: traffic_hand_poses/frandbk/frandbk_004_augment_2.png  \n",
            "  inflating: traffic_hand_poses/frandbk/frandbk_007_augment_3.png  \n",
            "  inflating: traffic_hand_poses/frandbk/frandbk_002_augment_1_augment_3.png  \n",
            "  inflating: traffic_hand_poses/frandbk/frandbk_004_augment_1_augment_3.png  \n",
            "  inflating: traffic_hand_poses/frandbk/frandbk_003_augment_1_augment_3.png  \n",
            "  inflating: traffic_hand_poses/frandbk/frandbk_005_augment_1_augment_3.png  \n",
            "  inflating: traffic_hand_poses/frandbk/frandbk_004_augment_1_augment_2_augment_3.png  \n",
            "  inflating: traffic_hand_poses/frandbk/frandbk_007_augment_2_augment_3.png  \n",
            "  inflating: traffic_hand_poses/frandbk/frandbk_002_augment_3.png  \n",
            "  inflating: traffic_hand_poses/frandbk/frandbk_003_augment_3.png  \n",
            "  inflating: traffic_hand_poses/frandbk/frandbk_001_augment_3.png  \n",
            "  inflating: traffic_hand_poses/frandbk/frandbk_004_augment_2_augment_3.png  \n",
            "  inflating: traffic_hand_poses/frandbk/frandbk_005_augment_3.png  \n",
            "  inflating: traffic_hand_poses/frandbk/frandbk_003_augment_1_augment_2_augment_3.png  \n",
            "  inflating: traffic_hand_poses/frandbk/frandbk_002_augment_2_augment_3.png  \n",
            "  inflating: traffic_hand_poses/frandbk/frandbk_001_augment_1_augment_3.png  \n",
            "  inflating: traffic_hand_poses/frandbk/frandbk_001_augment_2_augment_3.png  \n",
            "  inflating: traffic_hand_poses/frandbk/frandbk_001_augment_1_augment_2_augment_3.png  \n",
            "  inflating: traffic_hand_poses/frandbk/frandbk_003_augment_2_augment_3.png  \n",
            "  inflating: traffic_hand_poses/frandbk/frandbk_005_augment_2_augment_3.png  \n",
            "  inflating: traffic_hand_poses/frandbk/frandbk_002_augment_1_augment_2_augment_3.png  \n",
            "  inflating: traffic_hand_poses/frandbk/frandbk_007_augment_1_augment_3.png  \n",
            "  inflating: traffic_hand_poses/frandbk/frandbk_004_augment_3.png  \n",
            "  inflating: traffic_hand_poses/frandbk/frandbk_005_augment_1_augment_2_augment_3.png  \n",
            "  inflating: traffic_hand_poses/frandbk/frandbk_007_augment_1_augment_2_augment_3.png  \n"
          ]
        }
      ],
      "source": [
        "!unzip gdrive/MyDrive/traffic_hand_poses.zip "
      ]
    },
    {
      "cell_type": "code",
      "execution_count": null,
      "metadata": {
        "id": "zAtk4Nu9XInR"
      },
      "outputs": [],
      "source": []
    },
    {
      "cell_type": "markdown",
      "metadata": {
        "id": "CKbrsPCKd4gu"
      },
      "source": [
        "#### Visualize the post estimation results"
      ]
    },
    {
      "cell_type": "code",
      "execution_count": 78,
      "metadata": {
        "id": "oqMGCAsAdptt"
      },
      "outputs": [],
      "source": [
        "def draw_prediction_on_image(\n",
        "    image, person, crop_region=None, close_figure=True,\n",
        "    keep_input_size=False):\n",
        "  \"\"\"Draws the keypoint predictions on image.\n",
        " \n",
        "  Args:\n",
        "    image: An numpy array with shape [height, width, channel] representing the\n",
        "      pixel values of the input image.\n",
        "    person: A person entity returned from the MoveNet.SinglePose model.\n",
        "    close_figure: Whether to close the plt figure after the function returns.\n",
        "    keep_input_size: Whether to keep the size of the input image.\n",
        " \n",
        "  Returns:\n",
        "    An numpy array with shape [out_height, out_width, channel] representing the\n",
        "    image overlaid with keypoint predictions.\n",
        "  \"\"\"\n",
        "  # Draw the detection result on top of the image.\n",
        "  image_np = utils.visualize(image, [person])\n",
        "  \n",
        "  # Plot the image with detection results.\n",
        "  height, width, channel = image.shape\n",
        "  aspect_ratio = float(width) / height\n",
        "  fig, ax = plt.subplots(figsize=(12 * aspect_ratio, 12))\n",
        "  im = ax.imshow(image_np)\n",
        " \n",
        "  if close_figure:\n",
        "    plt.close(fig)\n",
        " \n",
        "  if not keep_input_size:\n",
        "    image_np = utils.keep_aspect_ratio_resizer(image_np, (512, 512))\n",
        "\n",
        "  return image_np"
      ]
    },
    {
      "cell_type": "markdown",
      "metadata": {
        "id": "FlfYZQrld-vS"
      },
      "source": [
        "#### Load the input images, detect pose landmarks and save them into a CSV file"
      ]
    },
    {
      "cell_type": "code",
      "execution_count": 79,
      "metadata": {
        "id": "5zbSCe25d7IM"
      },
      "outputs": [],
      "source": [
        "class MoveNetPreprocessor(object):\n",
        "  \"\"\"Helper class to preprocess pose sample images for classification.\"\"\"\n",
        " \n",
        "  def __init__(self,\n",
        "               images_in_folder,\n",
        "               images_out_folder,\n",
        "               csvs_out_path):\n",
        "    \"\"\"Creates a preprocessor to detection pose from images and save as CSV.\n",
        "\n",
        "    Args:\n",
        "      images_in_folder: Path to the folder with the input images. It should\n",
        "        follow this structure:\n",
        "        traffic_hand_poses\n",
        "        |__ front_and_back\n",
        "            |______ front_and_back1.jpg\n",
        "            |______ front_and_back2.bmp\n",
        "            |______ ...\n",
        "        |__ close\n",
        "            |______ close1.jpg\n",
        "            |______ close2.jpg\n",
        "            |______ ...\n",
        "        ...\n",
        "      images_out_folder: Path to write the images overlay with detected\n",
        "        landmarks. These images are useful when you need to debug accuracy\n",
        "        issues.\n",
        "      csvs_out_path: Path to write the CSV containing the detected landmark\n",
        "        coordinates and label of each image that can be used to train a pose\n",
        "        classification model.\n",
        "    \"\"\"\n",
        "    self._images_in_folder = images_in_folder\n",
        "    self._images_out_folder = images_out_folder\n",
        "    self._csvs_out_path = csvs_out_path\n",
        "    self._messages = []\n",
        "\n",
        "    # Create a temp dir to store the pose CSVs per class\n",
        "    self._csvs_out_folder_per_class = tempfile.mkdtemp()\n",
        " \n",
        "    # Get list of pose classes and print image statistics\n",
        "    self._pose_class_names = sorted(\n",
        "        [n for n in os.listdir(self._images_in_folder) if not n.startswith('.')]\n",
        "        )\n",
        "    \n",
        "  def process(self, per_pose_class_limit=None, detection_threshold=0.01):\n",
        "    \"\"\"Preprocesses images in the given folder.\n",
        "    Args:\n",
        "      per_pose_class_limit: Number of images to load. As preprocessing usually\n",
        "        takes time, this parameter can be specified to make the reduce of the\n",
        "        dataset for testing.\n",
        "      detection_threshold: Only keep images with all landmark confidence score\n",
        "        above this threshold.\n",
        "    \"\"\"\n",
        "    # Loop through the classes and preprocess its images\n",
        "    for pose_class_name in self._pose_class_names:\n",
        "      print('Preprocessing', pose_class_name, file=sys.stderr)\n",
        "\n",
        "      # Paths for the pose class.\n",
        "      images_in_folder = os.path.join(self._images_in_folder, pose_class_name)\n",
        "      images_out_folder = os.path.join(self._images_out_folder, pose_class_name)\n",
        "      csv_out_path = os.path.join(self._csvs_out_folder_per_class,\n",
        "                                  pose_class_name + '.csv')\n",
        "      if not os.path.exists(images_out_folder):\n",
        "        os.makedirs(images_out_folder)\n",
        " \n",
        "      # Detect landmarks in each image and write it to a CSV file\n",
        "      with open(csv_out_path, 'w') as csv_out_file:\n",
        "        csv_out_writer = csv.writer(csv_out_file, \n",
        "                                    delimiter=',', \n",
        "                                    quoting=csv.QUOTE_MINIMAL)\n",
        "        # Get list of images\n",
        "        image_names = sorted(\n",
        "            [n for n in os.listdir(images_in_folder) if not n.startswith('.')])\n",
        "        if per_pose_class_limit is not None:\n",
        "          image_names = image_names[:per_pose_class_limit]\n",
        "\n",
        "        valid_image_count = 0\n",
        " \n",
        "        # Detect pose landmarks from each image\n",
        "        for image_name in tqdm.tqdm(image_names):\n",
        "          image_path = os.path.join(images_in_folder, image_name)\n",
        "\n",
        "          try:\n",
        "            image = tf.io.read_file(image_path)\n",
        "            image = tf.io.decode_jpeg(image)\n",
        "          except:\n",
        "            self._messages.append('Skipped ' + image_path + '. Invalid image.')\n",
        "            continue\n",
        "          else:\n",
        "            image = tf.io.read_file(image_path)\n",
        "            image = tf.io.decode_jpeg(image)\n",
        "            image_height, image_width, channel = image.shape\n",
        "          \n",
        "          # Skip images that isn't RGB because Movenet requires RGB images\n",
        "          if channel != 3:\n",
        "            self._messages.append('Skipped ' + image_path +\n",
        "                                  '. Image isn\\'t in RGB format.')\n",
        "            print('Skipped ' + image_path +\n",
        "                                  '. Image isn\\'t in RGB format.')\n",
        "            continue\n",
        "          person = detect(image)\n",
        "          \n",
        "          # Save landmarks if all landmarks were detected\n",
        "          min_landmark_score = min(\n",
        "              [keypoint.score for keypoint in person.keypoints])\n",
        "          should_keep_image = min_landmark_score >= detection_threshold\n",
        "          if not should_keep_image:\n",
        "            self._messages.append('Skipped ' + image_path +\n",
        "                                  '. No pose was confidentlly detected.')\n",
        "            continue\n",
        "\n",
        "          valid_image_count += 1\n",
        "\n",
        "          # Draw the prediction result on top of the image for debugging later\n",
        "          output_overlay = draw_prediction_on_image(\n",
        "              image.numpy().astype(np.uint8), person, \n",
        "              close_figure=True, keep_input_size=True)\n",
        "        \n",
        "          # Write detection result into an image file\n",
        "          output_frame = cv2.cvtColor(output_overlay, cv2.COLOR_RGB2BGR)\n",
        "          cv2.imwrite(os.path.join(images_out_folder, image_name), output_frame)\n",
        "        \n",
        "          # Get landmarks and scale it to the same size as the input image\n",
        "          pose_landmarks = np.array(\n",
        "              [[keypoint.coordinate.x, keypoint.coordinate.y, keypoint.score]\n",
        "                for keypoint in person.keypoints],\n",
        "              dtype=np.float32)\n",
        "\n",
        "          # Write the landmark coordinates to its per-class CSV file\n",
        "          coordinates = pose_landmarks.flatten().astype(np.str).tolist()\n",
        "          csv_out_writer.writerow([image_name] + coordinates)\n",
        "\n",
        "        if not valid_image_count:\n",
        "          raise RuntimeError(\n",
        "              'No valid images found for the \"{}\" class.'\n",
        "              .format(pose_class_name))\n",
        "      \n",
        "    # Print the error message collected during preprocessing.\n",
        "    print('\\n'.join(self._messages))\n",
        "\n",
        "    # Combine all per-class CSVs into a single output file\n",
        "    all_landmarks_df = self._all_landmarks_as_dataframe()\n",
        "    all_landmarks_df.to_csv(self._csvs_out_path, index=False)\n",
        "\n",
        "  def class_names(self):\n",
        "    \"\"\"List of classes found in the training dataset.\"\"\"\n",
        "    return self._pose_class_names\n",
        "  \n",
        "  def _all_landmarks_as_dataframe(self):\n",
        "    \"\"\"Merge all per-class CSVs into a single dataframe.\"\"\"\n",
        "    total_df = None\n",
        "    for class_index, class_name in enumerate(self._pose_class_names):\n",
        "      csv_out_path = os.path.join(self._csvs_out_folder_per_class,\n",
        "                                  class_name + '.csv')\n",
        "      per_class_df = pd.read_csv(csv_out_path, header=None)\n",
        "      \n",
        "      # Add the labels\n",
        "      per_class_df['class_no'] = [class_index]*len(per_class_df)\n",
        "      per_class_df['class_name'] = [class_name]*len(per_class_df)\n",
        "\n",
        "      # Append the folder name to the filename column (first column)\n",
        "      per_class_df[per_class_df.columns[0]] = (os.path.join(class_name, '') \n",
        "        + per_class_df[per_class_df.columns[0]].astype(str))\n",
        "\n",
        "      if total_df is None:\n",
        "        # For the first class, assign its data to the total dataframe\n",
        "        total_df = per_class_df\n",
        "      else:\n",
        "        # Concatenate each class's data into the total dataframe\n",
        "        total_df = pd.concat([total_df, per_class_df], axis=0)\n",
        " \n",
        "    list_name = [[bodypart.name + '_x', bodypart.name + '_y', \n",
        "                  bodypart.name + '_score'] for bodypart in BodyPart] \n",
        "    header_name = []\n",
        "    for columns_name in list_name:\n",
        "      header_name += columns_name\n",
        "    header_name = ['file_name'] + header_name\n",
        "    header_map = {total_df.columns[i]: header_name[i] \n",
        "                  for i in range(len(header_name))}\n",
        " \n",
        "    total_df.rename(header_map, axis=1, inplace=True)\n",
        "\n",
        "    return total_df"
      ]
    },
    {
      "cell_type": "markdown",
      "metadata": {
        "id": "MaE5IkLre6qz"
      },
      "source": [
        "Run the MoveNet pose estimation on a test image"
      ]
    },
    {
      "cell_type": "code",
      "execution_count": 44,
      "metadata": {
        "colab": {
          "base_uri": "https://localhost:8080/",
          "height": 903
        },
        "id": "oLhwQgvIeLMW",
        "outputId": "955684e0-d263-4eb5-c4e6-47d5f9500df4"
      },
      "outputs": [
        {
          "name": "stdout",
          "output_type": "stream",
          "text": [
            "--2022-12-19 20:53:46--  https://transport.assam.gov.in/sites/default/files/tandg21.jpg\n",
            "Resolving transport.assam.gov.in (transport.assam.gov.in)... 103.8.249.74\n",
            "Connecting to transport.assam.gov.in (transport.assam.gov.in)|103.8.249.74|:443... connected.\n",
            "HTTP request sent, awaiting response... 200 OK\n",
            "Length: 4431 (4.3K) [image/jpeg]\n",
            "Saving to: ‘/tmp/image.jpeg’\n",
            "\n",
            "/tmp/image.jpeg     100%[===================>]   4.33K  --.-KB/s    in 0s      \n",
            "\n",
            "2022-12-19 20:53:48 (533 MB/s) - ‘/tmp/image.jpeg’ saved [4431/4431]\n",
            "\n"
          ]
        },
        {
          "data": {
            "image/png": "[encoded data removed]",
            "text/plain": [
              "<Figure size 612.887x864 with 1 Axes>"
            ]
          },
          "metadata": {
            "needs_background": "light"
          },
          "output_type": "display_data"
        }
      ],
      "source": [
        "test_image_url = \"https://transport.assam.gov.in/sites/default/files/tandg21.jpg\" #@param {type:\"string\"}\n",
        "!wget -O /tmp/image.jpeg {test_image_url}\n",
        "\n",
        "if len(test_image_url):\n",
        "  image = tf.io.read_file('/tmp/image.jpeg')\n",
        "  image = tf.io.decode_jpeg(image)\n",
        "  person = detect(image)\n",
        "  _ = draw_prediction_on_image(image.numpy(), person, crop_region=None, \n",
        "                               close_figure=False, keep_input_size=True)"
      ]
    },
    {
      "cell_type": "markdown",
      "metadata": {
        "id": "i-XWzm-MfdJt"
      },
      "source": [
        "#### Upload your custom pose dataset\n",
        "Consider the following directory structure as an example if you already have your dataset splitted into training and test sets.\n",
        "\n",
        "```\n",
        "    traffic_hand_poses/\n",
        "    |__ train/\n",
        "        |__ front_and_back/\n",
        "            |______ front_and_back1.jpg\n",
        "            |______ ...\n",
        "    |__ test/\n",
        "        |__ close/\n",
        "            |______ close1.jpg\n",
        "            |______ ...\n",
        "```"
      ]
    },
    {
      "cell_type": "markdown",
      "metadata": {
        "id": "9Lo-pPGPgVTG"
      },
      "source": [
        "If your dataset is not splitted already, the directory structure of your dataset should look something like the following:"
      ]
    },
    {
      "cell_type": "markdown",
      "metadata": {
        "id": "zSVz22jtggs8"
      },
      "source": [
        "```\n",
        "    traffic_hand_poses/\n",
        "    |__ front_and_back/\n",
        "        |______ front_and_back1.png\n",
        "        |______ front_and_back2.png\n",
        "        |______ ...\n",
        "    |__ close/\n",
        "        |______ close1.png\n",
        "        |______ close2.png\n",
        "        |______ ...\n",
        "```"
      ]
    },
    {
      "cell_type": "markdown",
      "metadata": {
        "id": "vfTG70n_g_8F"
      },
      "source": [
        "Run the cell below to split your data into training and test sets."
      ]
    },
    {
      "cell_type": "code",
      "execution_count": 80,
      "metadata": {
        "id": "6HhW6dulfj8U"
      },
      "outputs": [],
      "source": [
        "import os\n",
        "import random\n",
        "import shutil\n",
        "\n",
        "def split_into_train_test(images_origin, images_dest, test_split):\n",
        "  \"\"\"Splits a directory of sorted images into training and test sets.\n",
        "\n",
        "  Args:\n",
        "    images_origin: Path to the directory with your images. This directory\n",
        "      must include subdirectories for each of your labeled classes. For example:\n",
        "      traffic_hand_poses/\n",
        "      |__ front_and_back/\n",
        "          |______ front_and_back1.png\n",
        "          |______ front_and_back2.png\n",
        "          |______ ...\n",
        "      |__ close/\n",
        "          |______ close1.png\n",
        "          |______ close2.png\n",
        "          |______ ...\n",
        "      ...\n",
        "    images_dest: Path to a directory where you want the split dataset to be\n",
        "      saved. The results looks like this:\n",
        "      split_traffic_hand_poses/\n",
        "      |__ train/\n",
        "          |__ front_and_back/\n",
        "              |______ front_and_back1.png\n",
        "              |______ ...\n",
        "      |__ test/\n",
        "          |__ front_and_back/\n",
        "              |______ front_and_back100.png\n",
        "              |______ ...\n",
        "    test_split: Fraction of data to reserve for test (float between 0 and 1).\n",
        "  \"\"\"\n",
        "  _, dirs, _ = next(os.walk(images_origin))\n",
        "\n",
        "  TRAIN_DIR = os.path.join(images_dest, 'train')\n",
        "  TEST_DIR = os.path.join(images_dest, 'test')\n",
        "  os.makedirs(TRAIN_DIR, exist_ok=True)\n",
        "  os.makedirs(TEST_DIR, exist_ok=True)\n",
        "\n",
        "  for dir in dirs:\n",
        "    # Get all filenames for this dir, filtered by filetype\n",
        "    filenames = os.listdir(os.path.join(images_origin, dir))\n",
        "    filenames = [os.path.join(images_origin, dir, f) for f in filenames if (\n",
        "        f.endswith('.png') or f.endswith('.jpg') or f.endswith('.jpeg') or f.endswith('.bmp'))]\n",
        "    # Shuffle the files, deterministically\n",
        "    filenames.sort()\n",
        "    random.seed(42)\n",
        "    random.shuffle(filenames)\n",
        "    # Divide them into train/test dirs\n",
        "    os.makedirs(os.path.join(TEST_DIR, dir), exist_ok=True)\n",
        "    os.makedirs(os.path.join(TRAIN_DIR, dir), exist_ok=True)\n",
        "    test_count = int(len(filenames) * test_split)\n",
        "    for i, file in enumerate(filenames):\n",
        "      if i < test_count:\n",
        "        destination = os.path.join(TEST_DIR, dir, os.path.split(file)[1])\n",
        "      else:\n",
        "        destination = os.path.join(TRAIN_DIR, dir, os.path.split(file)[1])\n",
        "      shutil.copyfile(file, destination)\n",
        "    print(f'Moved {test_count} of {len(filenames)} from class \"{dir}\" into test.')\n",
        "  print(f'Your split dataset is in \"{images_dest}\"')"
      ]
    },
    {
      "cell_type": "code",
      "execution_count": 81,
      "metadata": {
        "colab": {
          "base_uri": "https://localhost:8080/"
        },
        "id": "eemC8rexhUxN",
        "outputId": "b1411882-3b99-43b3-c0fe-806599a30b16"
      },
      "outputs": [
        {
          "name": "stdout",
          "output_type": "stream",
          "text": [
            "Moved 9 of 46 from class \"left\" into test.\n",
            "Moved 10 of 54 from class \"frandbk\" into test.\n",
            "Moved 8 of 40 from class \"front\" into test.\n",
            "Moved 10 of 52 from class \"close\" into test.\n",
            "Moved 9 of 48 from class \"behind\" into test.\n",
            "Your split dataset is in \"split_traffic_hand_poses\"\n"
          ]
        }
      ],
      "source": [
        "dataset_in = 'traffic_hand_poses'\n",
        "\n",
        "if not os.path.isdir(dataset_in):\n",
        "  raise Exception(\"dataset_in is not a valid directory\")\n",
        "\n",
        "dataset_out = 'split_' + dataset_in\n",
        "split_into_train_test(dataset_in, dataset_out, test_split=0.2)\n",
        "IMAGES_ROOT = dataset_out"
      ]
    },
    {
      "cell_type": "markdown",
      "metadata": {
        "id": "9nIXUpaCjps0"
      },
      "source": [
        "#### Preprocess the TRAIN data"
      ]
    },
    {
      "cell_type": "code",
      "execution_count": null,
      "metadata": {
        "colab": {
          "base_uri": "https://localhost:8080/",
          "height": 36
        },
        "id": "L2O26dvEtRpZ",
        "outputId": "652d6dc3-1e45-4549-bdc9-31f66e5b4cf8"
      },
      "outputs": [
        {
          "data": {
            "application/vnd.google.colaboratory.intrinsic+json": {
              "type": "string"
            },
            "text/plain": [
              "'/content'"
            ]
          },
          "execution_count": 12,
          "metadata": {},
          "output_type": "execute_result"
        }
      ],
      "source": [
        "os.getcwd()"
      ]
    },
    {
      "cell_type": "code",
      "execution_count": 82,
      "metadata": {
        "colab": {
          "base_uri": "https://localhost:8080/"
        },
        "id": "rLoGWBgKig3c",
        "outputId": "80925678-b632-4a97-8134-e3e9aa69f065"
      },
      "outputs": [
        {
          "name": "stderr",
          "output_type": "stream",
          "text": [
            "Preprocessing behind\n",
            "  0%|          | 0/45 [00:00<?, ?it/s]<ipython-input-79-a4ecd3be6bf8>:128: DeprecationWarning: `np.str` is a deprecated alias for the builtin `str`. To silence this warning, use `str` by itself. Doing this will not modify any behavior and is safe. If you specifically wanted the numpy scalar type, use `np.str_` here.\n",
            "Deprecated in NumPy 1.20; for more details and guidance: https://numpy.org/devdocs/release/1.20.0-notes.html#deprecations\n",
            "  coordinates = pose_landmarks.flatten().astype(np.str).tolist()\n",
            " 22%|██▏       | 10/45 [00:34<01:58,  3.37s/it]"
          ]
        },
        {
          "name": "stdout",
          "output_type": "stream",
          "text": [
            "Skipped split_traffic_hand_poses/train/behind/Behind_003_augment_1_augment_2.png. Image isn't in RGB format.\n"
          ]
        },
        {
          "name": "stderr",
          "output_type": "stream",
          "text": [
            "100%|██████████| 45/45 [02:29<00:00,  3.32s/it]\n",
            "Preprocessing close\n",
            " 71%|███████▏  | 35/49 [01:58<00:46,  3.33s/it]"
          ]
        },
        {
          "name": "stdout",
          "output_type": "stream",
          "text": [
            "Skipped split_traffic_hand_poses/train/close/close_007.png. Image isn't in RGB format.\n"
          ]
        },
        {
          "name": "stderr",
          "output_type": "stream",
          "text": [
            "100%|██████████| 49/49 [02:43<00:00,  3.33s/it]\n",
            "Preprocessing frandbk\n",
            "100%|██████████| 49/49 [02:46<00:00,  3.40s/it]\n",
            "Preprocessing front\n",
            " 64%|██████▍   | 23/36 [01:17<00:43,  3.38s/it]"
          ]
        },
        {
          "name": "stdout",
          "output_type": "stream",
          "text": [
            "Skipped split_traffic_hand_poses/train/front/img_005_augment_2.png. Image isn't in RGB format.\n"
          ]
        },
        {
          "name": "stderr",
          "output_type": "stream",
          "text": [
            "100%|██████████| 36/36 [01:58<00:00,  3.29s/it]\n",
            "Preprocessing left\n",
            " 40%|███▉      | 17/43 [00:57<01:28,  3.41s/it]"
          ]
        },
        {
          "name": "stdout",
          "output_type": "stream",
          "text": [
            "Skipped split_traffic_hand_poses/train/left/left_004_augment_1_augment_2.png. Image isn't in RGB format.\n"
          ]
        },
        {
          "name": "stderr",
          "output_type": "stream",
          "text": [
            " 60%|██████    | 26/43 [01:24<00:56,  3.30s/it]"
          ]
        },
        {
          "name": "stdout",
          "output_type": "stream",
          "text": [
            "Skipped split_traffic_hand_poses/train/left/left_005_augment_2.png. Image isn't in RGB format.\n"
          ]
        },
        {
          "name": "stderr",
          "output_type": "stream",
          "text": [
            "100%|██████████| 43/43 [02:19<00:00,  3.23s/it]"
          ]
        },
        {
          "name": "stdout",
          "output_type": "stream",
          "text": [
            "Skipped split_traffic_hand_poses/train/behind/Behind_003_augment_1_augment_2.png. Image isn't in RGB format.\n",
            "Skipped split_traffic_hand_poses/train/behind/Behind_004.png. No pose was confidentlly detected.\n",
            "Skipped split_traffic_hand_poses/train/behind/Behind_004_augment_1.png. No pose was confidentlly detected.\n",
            "Skipped split_traffic_hand_poses/train/behind/Behind_004_augment_1_augment_2.png. No pose was confidentlly detected.\n",
            "Skipped split_traffic_hand_poses/train/behind/Behind_004_augment_1_augment_2_augment_3.png. No pose was confidentlly detected.\n",
            "Skipped split_traffic_hand_poses/train/behind/Behind_004_augment_1_augment_3.png. No pose was confidentlly detected.\n",
            "Skipped split_traffic_hand_poses/train/behind/Behind_004_augment_2.png. No pose was confidentlly detected.\n",
            "Skipped split_traffic_hand_poses/train/behind/Behind_004_augment_2_augment_3.png. No pose was confidentlly detected.\n",
            "Skipped split_traffic_hand_poses/train/close/close_006_augment_1.png. No pose was confidentlly detected.\n",
            "Skipped split_traffic_hand_poses/train/close/close_006_augment_1_augment_2.png. No pose was confidentlly detected.\n",
            "Skipped split_traffic_hand_poses/train/close/close_006_augment_1_augment_2_augment_3.png. No pose was confidentlly detected.\n",
            "Skipped split_traffic_hand_poses/train/close/close_006_augment_1_augment_3.png. No pose was confidentlly detected.\n",
            "Skipped split_traffic_hand_poses/train/close/close_006_augment_2.png. No pose was confidentlly detected.\n",
            "Skipped split_traffic_hand_poses/train/close/close_006_augment_2_augment_3.png. No pose was confidentlly detected.\n",
            "Skipped split_traffic_hand_poses/train/close/close_006_augment_3.png. No pose was confidentlly detected.\n",
            "Skipped split_traffic_hand_poses/train/close/close_007.png. Image isn't in RGB format.\n",
            "Skipped split_traffic_hand_poses/train/close/close_007_augment_1_augment_2.png. No pose was confidentlly detected.\n",
            "Skipped split_traffic_hand_poses/train/close/close_007_augment_1_augment_3.png. No pose was confidentlly detected.\n",
            "Skipped split_traffic_hand_poses/train/close/close_007_augment_2_augment_3.png. No pose was confidentlly detected.\n",
            "Skipped split_traffic_hand_poses/train/close/close_007_augment_3.png. No pose was confidentlly detected.\n",
            "Skipped split_traffic_hand_poses/train/frandbk/frandbk_004_augment_1.png. No pose was confidentlly detected.\n",
            "Skipped split_traffic_hand_poses/train/frandbk/frandbk_004_augment_1_augment_2.png. No pose was confidentlly detected.\n",
            "Skipped split_traffic_hand_poses/train/frandbk/frandbk_004_augment_1_augment_2_augment_3.png. No pose was confidentlly detected.\n",
            "Skipped split_traffic_hand_poses/train/frandbk/frandbk_004_augment_2.png. No pose was confidentlly detected.\n",
            "Skipped split_traffic_hand_poses/train/frandbk/frandbk_007.png. No pose was confidentlly detected.\n",
            "Skipped split_traffic_hand_poses/train/frandbk/frandbk_007_augment_1_augment_2_augment_3.png. No pose was confidentlly detected.\n",
            "Skipped split_traffic_hand_poses/train/frandbk/frandbk_007_augment_2.png. No pose was confidentlly detected.\n",
            "Skipped split_traffic_hand_poses/train/frandbk/frandbk_007_augment_2_augment_3.png. No pose was confidentlly detected.\n",
            "Skipped split_traffic_hand_poses/train/frandbk/frandbk_007_augment_3.png. No pose was confidentlly detected.\n",
            "Skipped split_traffic_hand_poses/train/front/img_005_augment_2.png. Image isn't in RGB format.\n",
            "Skipped split_traffic_hand_poses/train/left/left_004_augment_1_augment_2.png. Image isn't in RGB format.\n",
            "Skipped split_traffic_hand_poses/train/left/left_005_augment_2.png. Image isn't in RGB format.\n"
          ]
        },
        {
          "name": "stderr",
          "output_type": "stream",
          "text": [
            "\n"
          ]
        }
      ],
      "source": [
        "images_in_train_folder = os.path.join(IMAGES_ROOT, 'train')\n",
        "images_out_train_folder = 'poses_images_out_train'\n",
        "csvs_out_train_path = 'train_data.csv'\n",
        "\n",
        "preprocessor = MoveNetPreprocessor(\n",
        "      images_in_folder=images_in_train_folder,\n",
        "      images_out_folder=images_out_train_folder,\n",
        "      csvs_out_path=csvs_out_train_path,\n",
        ")\n",
        "\n",
        "preprocessor.process(per_pose_class_limit=None)"
      ]
    },
    {
      "cell_type": "markdown",
      "metadata": {
        "id": "xHjbVq7cj2OY"
      },
      "source": [
        "#### Preprocess the TEST data"
      ]
    },
    {
      "cell_type": "code",
      "execution_count": 83,
      "metadata": {
        "colab": {
          "base_uri": "https://localhost:8080/"
        },
        "id": "OLHvXuNZj4dG",
        "outputId": "20020ae5-3a88-413c-f840-a655a182639c"
      },
      "outputs": [
        {
          "name": "stderr",
          "output_type": "stream",
          "text": [
            "Preprocessing behind\n",
            "  0%|          | 0/16 [00:00<?, ?it/s]<ipython-input-79-a4ecd3be6bf8>:128: DeprecationWarning: `np.str` is a deprecated alias for the builtin `str`. To silence this warning, use `str` by itself. Doing this will not modify any behavior and is safe. If you specifically wanted the numpy scalar type, use `np.str_` here.\n",
            "Deprecated in NumPy 1.20; for more details and guidance: https://numpy.org/devdocs/release/1.20.0-notes.html#deprecations\n",
            "  coordinates = pose_landmarks.flatten().astype(np.str).tolist()\n",
            " 62%|██████▎   | 10/16 [00:33<00:20,  3.39s/it]"
          ]
        },
        {
          "name": "stdout",
          "output_type": "stream",
          "text": [
            "Skipped split_traffic_hand_poses/test/behind/behind_001_augment_1_augment_2.png. Image isn't in RGB format.\n"
          ]
        },
        {
          "name": "stderr",
          "output_type": "stream",
          "text": [
            "100%|██████████| 16/16 [00:47<00:00,  2.97s/it]\n",
            "Preprocessing close\n"
          ]
        },
        {
          "name": "stdout",
          "output_type": "stream",
          "text": [
            "Skipped split_traffic_hand_poses/test/behind/behind_007_augment_2.png. Image isn't in RGB format.\n"
          ]
        },
        {
          "name": "stderr",
          "output_type": "stream",
          "text": [
            " 37%|███▋      | 7/19 [00:23<00:40,  3.40s/it]"
          ]
        },
        {
          "name": "stdout",
          "output_type": "stream",
          "text": [
            "Skipped split_traffic_hand_poses/test/close/close_003_augment_1_augment_2.png. Image isn't in RGB format.\n"
          ]
        },
        {
          "name": "stderr",
          "output_type": "stream",
          "text": [
            " 63%|██████▎   | 12/19 [00:37<00:21,  3.06s/it]"
          ]
        },
        {
          "name": "stdout",
          "output_type": "stream",
          "text": [
            "Skipped split_traffic_hand_poses/test/close/close_006.png. Image isn't in RGB format.\n"
          ]
        },
        {
          "name": "stderr",
          "output_type": "stream",
          "text": [
            "\r 74%|███████▎  | 14/19 [00:40<00:12,  2.47s/it]"
          ]
        },
        {
          "name": "stdout",
          "output_type": "stream",
          "text": [
            "Skipped split_traffic_hand_poses/test/close/close_006_augment_1_augment_2.png. Image isn't in RGB format.\n"
          ]
        },
        {
          "name": "stderr",
          "output_type": "stream",
          "text": [
            "100%|██████████| 19/19 [00:50<00:00,  2.68s/it]\n",
            "Preprocessing frandbk\n"
          ]
        },
        {
          "name": "stdout",
          "output_type": "stream",
          "text": [
            "Skipped split_traffic_hand_poses/test/close/clsoe_004_augment_2.png. Image isn't in RGB format.\n"
          ]
        },
        {
          "name": "stderr",
          "output_type": "stream",
          "text": [
            " 74%|███████▎  | 14/19 [00:48<00:17,  3.42s/it]"
          ]
        },
        {
          "name": "stdout",
          "output_type": "stream",
          "text": [
            "Skipped split_traffic_hand_poses/test/frandbk/frandbk_006_augment_1.png. Image isn't in RGB format.\n"
          ]
        },
        {
          "name": "stderr",
          "output_type": "stream",
          "text": [
            "100%|██████████| 19/19 [00:57<00:00,  3.05s/it]\n",
            "Preprocessing front\n"
          ]
        },
        {
          "name": "stdout",
          "output_type": "stream",
          "text": [
            "Skipped split_traffic_hand_poses/test/frandbk/frandbk_007_augment_2.png. Image isn't in RGB format.\n"
          ]
        },
        {
          "name": "stderr",
          "output_type": "stream",
          "text": [
            " 47%|████▋     | 7/15 [00:23<00:26,  3.37s/it]"
          ]
        },
        {
          "name": "stdout",
          "output_type": "stream",
          "text": [
            "Skipped split_traffic_hand_poses/test/front/img_005.png. Image isn't in RGB format.\n",
            "Skipped split_traffic_hand_poses/test/front/img_005_augment_1_augment_2.png. Image isn't in RGB format.\n"
          ]
        },
        {
          "name": "stderr",
          "output_type": "stream",
          "text": [
            "100%|██████████| 15/15 [00:40<00:00,  2.71s/it]\n",
            "Preprocessing left\n"
          ]
        },
        {
          "name": "stdout",
          "output_type": "stream",
          "text": [
            "Skipped split_traffic_hand_poses/test/front/img_007_augment_2.png. Image isn't in RGB format.\n"
          ]
        },
        {
          "name": "stderr",
          "output_type": "stream",
          "text": [
            " 50%|█████     | 8/16 [00:26<00:26,  3.35s/it]"
          ]
        },
        {
          "name": "stdout",
          "output_type": "stream",
          "text": [
            "Skipped split_traffic_hand_poses/test/left/left_005.png. Image isn't in RGB format.\n",
            "Skipped split_traffic_hand_poses/test/left/left_005_augment_1_augment_2.png. Image isn't in RGB format.\n"
          ]
        },
        {
          "name": "stderr",
          "output_type": "stream",
          "text": [
            "100%|██████████| 16/16 [00:43<00:00,  2.74s/it]"
          ]
        },
        {
          "name": "stdout",
          "output_type": "stream",
          "text": [
            "Skipped split_traffic_hand_poses/test/left/left_007_augment_2.png. Image isn't in RGB format.\n",
            "Skipped split_traffic_hand_poses/test/behind/Behind_004_augment_1_augment_2.png. No pose was confidentlly detected.\n",
            "Skipped split_traffic_hand_poses/test/behind/Behind_004_augment_2.png. No pose was confidentlly detected.\n",
            "Skipped split_traffic_hand_poses/test/behind/behind_001_augment_1_augment_2.png. Image isn't in RGB format.\n",
            "Skipped split_traffic_hand_poses/test/behind/behind_007_augment_2.png. Image isn't in RGB format.\n",
            "Skipped split_traffic_hand_poses/test/close/close_003_augment_1_augment_2.png. Image isn't in RGB format.\n",
            "Skipped split_traffic_hand_poses/test/close/close_006.png. Image isn't in RGB format.\n",
            "Skipped split_traffic_hand_poses/test/close/close_006_augment_1.png. No pose was confidentlly detected.\n",
            "Skipped split_traffic_hand_poses/test/close/close_006_augment_1_augment_2.png. Image isn't in RGB format.\n",
            "Skipped split_traffic_hand_poses/test/close/clsoe_004_augment_2.png. Image isn't in RGB format.\n",
            "Skipped split_traffic_hand_poses/test/frandbk/frandbk_004_augment_1_augment_2.png. No pose was confidentlly detected.\n",
            "Skipped split_traffic_hand_poses/test/frandbk/frandbk_004_augment_1_augment_3.png. No pose was confidentlly detected.\n",
            "Skipped split_traffic_hand_poses/test/frandbk/frandbk_004_augment_2_augment_3.png. No pose was confidentlly detected.\n",
            "Skipped split_traffic_hand_poses/test/frandbk/frandbk_004_augment_3.png. No pose was confidentlly detected.\n",
            "Skipped split_traffic_hand_poses/test/frandbk/frandbk_006_augment_1.png. Image isn't in RGB format.\n",
            "Skipped split_traffic_hand_poses/test/frandbk/frandbk_007.png. No pose was confidentlly detected.\n",
            "Skipped split_traffic_hand_poses/test/frandbk/frandbk_007_augment_2.png. Image isn't in RGB format.\n",
            "Skipped split_traffic_hand_poses/test/front/img_005.png. Image isn't in RGB format.\n",
            "Skipped split_traffic_hand_poses/test/front/img_005_augment_1_augment_2.png. Image isn't in RGB format.\n",
            "Skipped split_traffic_hand_poses/test/front/img_007_augment_2.png. Image isn't in RGB format.\n",
            "Skipped split_traffic_hand_poses/test/left/left_004_augment_3.png. No pose was confidentlly detected.\n",
            "Skipped split_traffic_hand_poses/test/left/left_005.png. Image isn't in RGB format.\n",
            "Skipped split_traffic_hand_poses/test/left/left_005_augment_1_augment_2.png. Image isn't in RGB format.\n",
            "Skipped split_traffic_hand_poses/test/left/left_007_augment_2.png. Image isn't in RGB format.\n"
          ]
        },
        {
          "name": "stderr",
          "output_type": "stream",
          "text": [
            "\n"
          ]
        }
      ],
      "source": [
        "images_in_test_folder = os.path.join(IMAGES_ROOT, 'test')\n",
        "images_out_test_folder = 'poses_images_out_test'\n",
        "csvs_out_test_path = 'test_data.csv'\n",
        "\n",
        "preprocessor = MoveNetPreprocessor(\n",
        "      images_in_folder=images_in_test_folder,\n",
        "      images_out_folder=images_out_test_folder,\n",
        "      csvs_out_path=csvs_out_test_path,\n",
        ")\n",
        "\n",
        "preprocessor.process(per_pose_class_limit=None)"
      ]
    },
    {
      "cell_type": "markdown",
      "metadata": {
        "id": "3eGMupIUkBs3"
      },
      "source": [
        "#### Load the preprocessed CSV files into TRAIN and TEST datasets"
      ]
    },
    {
      "cell_type": "code",
      "execution_count": 84,
      "metadata": {
        "id": "pNBHxI-vkGpE"
      },
      "outputs": [],
      "source": [
        "def load_pose_landmarks(csv_path):\n",
        "  \"\"\"Loads a CSV created by MoveNetPreprocessor.\n",
        "  \n",
        "  Returns:\n",
        "    X: Detected landmark coordinates and scores of shape (N, 17 * 3)\n",
        "    y: Ground truth labels of shape (N, label_count)\n",
        "    classes: The list of all class names found in the dataset\n",
        "    dataframe: The CSV loaded as a Pandas dataframe features (X) and ground\n",
        "      truth labels (y) to use later to train a pose classification model.\n",
        "  \"\"\"\n",
        "\n",
        "  # Load the CSV file\n",
        "  dataframe = pd.read_csv(csv_path)\n",
        "  df_to_process = dataframe.copy()\n",
        "\n",
        "  # Drop the file_name columns as you don't need it during training.\n",
        "  df_to_process.drop(columns=['file_name'], inplace=True)\n",
        "\n",
        "  # Extract the list of class names\n",
        "  classes = df_to_process.pop('class_name').unique()\n",
        "\n",
        "  # Extract the labels\n",
        "  y = df_to_process.pop('class_no')\n",
        "\n",
        "  # Convert the input features and labels into the correct format for training.\n",
        "  X = df_to_process.astype('float64')\n",
        "  y = keras.utils.to_categorical(y)\n",
        "\n",
        "  return X, y, classes, dataframe"
      ]
    },
    {
      "cell_type": "markdown",
      "metadata": {
        "id": "O04U6JkEkNE2"
      },
      "source": [
        "Load and split the original TRAIN dataset into TRAIN (85% of the data) and VALIDATE (the remaining 15%)."
      ]
    },
    {
      "cell_type": "code",
      "execution_count": 85,
      "metadata": {
        "id": "7Iut3DB5kNbU"
      },
      "outputs": [],
      "source": [
        "# Load the train data\n",
        "X, y, class_names, _ = load_pose_landmarks(csvs_out_train_path)\n",
        "\n",
        "# Split training data (X, y) into (X_train, y_train) and (X_val, y_val)\n",
        "X_train, X_val, y_train, y_val = train_test_split(X, y,\n",
        "                                                  test_size=0.15)"
      ]
    },
    {
      "cell_type": "code",
      "execution_count": 86,
      "metadata": {
        "id": "qdZketsakPEw"
      },
      "outputs": [],
      "source": [
        "# Load the test data\n",
        "X_test, y_test, _, df_test = load_pose_landmarks(csvs_out_test_path)"
      ]
    },
    {
      "cell_type": "markdown",
      "metadata": {
        "id": "wDF6d8O3kWly"
      },
      "source": [
        "### Define functions to convert the pose landmarks to a pose embedding (a.k.a. feature vector) for pose classification\n",
        "\n",
        "Next, convert the landmark coordinates to a feature vector by:\n",
        "1. Moving the pose center to the origin.\n",
        "2. Scaling the pose so that the pose size becomes 1\n",
        "3. Flattening these coordinates into a feature vector\n",
        "\n",
        "Then use this feature vector to train a neural-network based pose classifier."
      ]
    },
    {
      "cell_type": "code",
      "execution_count": 87,
      "metadata": {
        "id": "FYK2azyQkWzd"
      },
      "outputs": [],
      "source": [
        "def get_center_point(landmarks, left_bodypart, right_bodypart):\n",
        "  \"\"\"Calculates the center point of the two given landmarks.\"\"\"\n",
        "\n",
        "  left = tf.gather(landmarks, left_bodypart.value, axis=1)\n",
        "  right = tf.gather(landmarks, right_bodypart.value, axis=1)\n",
        "  center = left * 0.5 + right * 0.5\n",
        "  return center\n",
        "\n",
        "\n",
        "def get_pose_size(landmarks, torso_size_multiplier=2.5):\n",
        "  \"\"\"Calculates pose size.\n",
        "\n",
        "  It is the maximum of two values:\n",
        "    * Torso size multiplied by `torso_size_multiplier`\n",
        "    * Maximum distance from pose center to any pose landmark\n",
        "  \"\"\"\n",
        "  # Hips center\n",
        "  hips_center = get_center_point(landmarks, BodyPart.LEFT_HIP, \n",
        "                                 BodyPart.RIGHT_HIP)\n",
        "\n",
        "  # Shoulders center\n",
        "  shoulders_center = get_center_point(landmarks, BodyPart.LEFT_SHOULDER,\n",
        "                                      BodyPart.RIGHT_SHOULDER)\n",
        "\n",
        "  # Torso size as the minimum body size\n",
        "  torso_size = tf.linalg.norm(shoulders_center - hips_center)\n",
        "\n",
        "  # Pose center\n",
        "  pose_center_new = get_center_point(landmarks, BodyPart.LEFT_HIP, \n",
        "                                     BodyPart.RIGHT_HIP)\n",
        "  pose_center_new = tf.expand_dims(pose_center_new, axis=1)\n",
        "  # Broadcast the pose center to the same size as the landmark vector to\n",
        "  # perform substraction\n",
        "  pose_center_new = tf.broadcast_to(pose_center_new,\n",
        "                                    [tf.size(landmarks) // (17*2), 17, 2])\n",
        "\n",
        "  # Dist to pose center\n",
        "  d = tf.gather(landmarks - pose_center_new, 0, axis=0,\n",
        "                name=\"dist_to_pose_center\")\n",
        "  # Max dist to pose center\n",
        "  max_dist = tf.reduce_max(tf.linalg.norm(d, axis=0))\n",
        "\n",
        "  # Normalize scale\n",
        "  pose_size = tf.maximum(torso_size * torso_size_multiplier, max_dist)\n",
        "\n",
        "  return pose_size\n",
        "\n",
        "\n",
        "def normalize_pose_landmarks(landmarks):\n",
        "  \"\"\"Normalizes the landmarks translation by moving the pose center to (0,0) and\n",
        "  scaling it to a constant pose size.\n",
        "  \"\"\"\n",
        "  # Move landmarks so that the pose center becomes (0,0)\n",
        "  pose_center = get_center_point(landmarks, BodyPart.LEFT_HIP, \n",
        "                                 BodyPart.RIGHT_HIP)\n",
        "  pose_center = tf.expand_dims(pose_center, axis=1)\n",
        "  # Broadcast the pose center to the same size as the landmark vector to perform\n",
        "  # substraction\n",
        "  pose_center = tf.broadcast_to(pose_center, \n",
        "                                [tf.size(landmarks) // (17*2), 17, 2])\n",
        "  landmarks = landmarks - pose_center\n",
        "\n",
        "  # Scale the landmarks to a constant pose size\n",
        "  pose_size = get_pose_size(landmarks)\n",
        "  landmarks /= pose_size\n",
        "\n",
        "  return landmarks\n",
        "\n",
        "\n",
        "def landmarks_to_embedding(landmarks_and_scores):\n",
        "  \"\"\"Converts the input landmarks into a pose embedding.\"\"\"\n",
        "  # Reshape the flat input into a matrix with shape=(17, 3)\n",
        "  reshaped_inputs = keras.layers.Reshape((17, 3))(landmarks_and_scores)\n",
        "\n",
        "  # Normalize landmarks 2D\n",
        "  landmarks = normalize_pose_landmarks(reshaped_inputs[:, :, :2])\n",
        "\n",
        "  # Flatten the normalized landmark coordinates into a vector\n",
        "  embedding = keras.layers.Flatten()(landmarks)\n",
        "\n",
        "  return embedding"
      ]
    },
    {
      "cell_type": "markdown",
      "metadata": {
        "id": "MTm8FEFdkb2E"
      },
      "source": [
        "#### Define a Keras model for Pose Classification\n",
        "Our Keras model takes the detected pose landmarks, then calculates the pose embedding and predicts the pose class."
      ]
    },
    {
      "cell_type": "code",
      "execution_count": 90,
      "metadata": {
        "colab": {
          "base_uri": "https://localhost:8080/"
        },
        "id": "TFc-WOjOkepG",
        "outputId": "d0e3a375-e24e-4abe-e42c-b3a442f67f21"
      },
      "outputs": [
        {
          "name": "stdout",
          "output_type": "stream",
          "text": [
            "Model: \"model_8\"\n",
            "__________________________________________________________________________________________________\n",
            " Layer (type)                   Output Shape         Param #     Connected to                     \n",
            "==================================================================================================\n",
            " input_9 (InputLayer)           [(None, 51)]         0           []                               \n",
            "                                                                                                  \n",
            " reshape_8 (Reshape)            (None, 17, 3)        0           ['input_9[0][0]']                \n",
            "                                                                                                  \n",
            " tf.__operators__.getitem_8 (Sl  (None, 17, 2)       0           ['reshape_8[0][0]']              \n",
            " icingOpLambda)                                                                                   \n",
            "                                                                                                  \n",
            " tf.compat.v1.gather_72 (TFOpLa  (None, 2)           0           ['tf.__operators__.getitem_8[0][0\n",
            " mbda)                                                           ]']                              \n",
            "                                                                                                  \n",
            " tf.compat.v1.gather_73 (TFOpLa  (None, 2)           0           ['tf.__operators__.getitem_8[0][0\n",
            " mbda)                                                           ]']                              \n",
            "                                                                                                  \n",
            " tf.math.multiply_72 (TFOpLambd  (None, 2)           0           ['tf.compat.v1.gather_72[0][0]'] \n",
            " a)                                                                                               \n",
            "                                                                                                  \n",
            " tf.math.multiply_73 (TFOpLambd  (None, 2)           0           ['tf.compat.v1.gather_73[0][0]'] \n",
            " a)                                                                                               \n",
            "                                                                                                  \n",
            " tf.__operators__.add_32 (TFOpL  (None, 2)           0           ['tf.math.multiply_72[0][0]',    \n",
            " ambda)                                                           'tf.math.multiply_73[0][0]']    \n",
            "                                                                                                  \n",
            " tf.compat.v1.size_16 (TFOpLamb  ()                  0           ['tf.__operators__.getitem_8[0][0\n",
            " da)                                                             ]']                              \n",
            "                                                                                                  \n",
            " tf.expand_dims_16 (TFOpLambda)  (None, 1, 2)        0           ['tf.__operators__.add_32[0][0]']\n",
            "                                                                                                  \n",
            " tf.compat.v1.floor_div_16 (TFO  ()                  0           ['tf.compat.v1.size_16[0][0]']   \n",
            " pLambda)                                                                                         \n",
            "                                                                                                  \n",
            " tf.broadcast_to_16 (TFOpLambda  (None, 17, 2)       0           ['tf.expand_dims_16[0][0]',      \n",
            " )                                                                'tf.compat.v1.floor_div_16[0][0]\n",
            "                                                                 ']                               \n",
            "                                                                                                  \n",
            " tf.math.subtract_24 (TFOpLambd  (None, 17, 2)       0           ['tf.__operators__.getitem_8[0][0\n",
            " a)                                                              ]',                              \n",
            "                                                                  'tf.broadcast_to_16[0][0]']     \n",
            "                                                                                                  \n",
            " tf.compat.v1.gather_78 (TFOpLa  (None, 2)           0           ['tf.math.subtract_24[0][0]']    \n",
            " mbda)                                                                                            \n",
            "                                                                                                  \n",
            " tf.compat.v1.gather_79 (TFOpLa  (None, 2)           0           ['tf.math.subtract_24[0][0]']    \n",
            " mbda)                                                                                            \n",
            "                                                                                                  \n",
            " tf.math.multiply_78 (TFOpLambd  (None, 2)           0           ['tf.compat.v1.gather_78[0][0]'] \n",
            " a)                                                                                               \n",
            "                                                                                                  \n",
            " tf.math.multiply_79 (TFOpLambd  (None, 2)           0           ['tf.compat.v1.gather_79[0][0]'] \n",
            " a)                                                                                               \n",
            "                                                                                                  \n",
            " tf.__operators__.add_35 (TFOpL  (None, 2)           0           ['tf.math.multiply_78[0][0]',    \n",
            " ambda)                                                           'tf.math.multiply_79[0][0]']    \n",
            "                                                                                                  \n",
            " tf.compat.v1.size_17 (TFOpLamb  ()                  0           ['tf.math.subtract_24[0][0]']    \n",
            " da)                                                                                              \n",
            "                                                                                                  \n",
            " tf.compat.v1.gather_76 (TFOpLa  (None, 2)           0           ['tf.math.subtract_24[0][0]']    \n",
            " mbda)                                                                                            \n",
            "                                                                                                  \n",
            " tf.compat.v1.gather_77 (TFOpLa  (None, 2)           0           ['tf.math.subtract_24[0][0]']    \n",
            " mbda)                                                                                            \n",
            "                                                                                                  \n",
            " tf.compat.v1.gather_74 (TFOpLa  (None, 2)           0           ['tf.math.subtract_24[0][0]']    \n",
            " mbda)                                                                                            \n",
            "                                                                                                  \n",
            " tf.compat.v1.gather_75 (TFOpLa  (None, 2)           0           ['tf.math.subtract_24[0][0]']    \n",
            " mbda)                                                                                            \n",
            "                                                                                                  \n",
            " tf.expand_dims_17 (TFOpLambda)  (None, 1, 2)        0           ['tf.__operators__.add_35[0][0]']\n",
            "                                                                                                  \n",
            " tf.compat.v1.floor_div_17 (TFO  ()                  0           ['tf.compat.v1.size_17[0][0]']   \n",
            " pLambda)                                                                                         \n",
            "                                                                                                  \n",
            " tf.math.multiply_76 (TFOpLambd  (None, 2)           0           ['tf.compat.v1.gather_76[0][0]'] \n",
            " a)                                                                                               \n",
            "                                                                                                  \n",
            " tf.math.multiply_77 (TFOpLambd  (None, 2)           0           ['tf.compat.v1.gather_77[0][0]'] \n",
            " a)                                                                                               \n",
            "                                                                                                  \n",
            " tf.math.multiply_74 (TFOpLambd  (None, 2)           0           ['tf.compat.v1.gather_74[0][0]'] \n",
            " a)                                                                                               \n",
            "                                                                                                  \n",
            " tf.math.multiply_75 (TFOpLambd  (None, 2)           0           ['tf.compat.v1.gather_75[0][0]'] \n",
            " a)                                                                                               \n",
            "                                                                                                  \n",
            " tf.broadcast_to_17 (TFOpLambda  (None, 17, 2)       0           ['tf.expand_dims_17[0][0]',      \n",
            " )                                                                'tf.compat.v1.floor_div_17[0][0]\n",
            "                                                                 ']                               \n",
            "                                                                                                  \n",
            " tf.__operators__.add_34 (TFOpL  (None, 2)           0           ['tf.math.multiply_76[0][0]',    \n",
            " ambda)                                                           'tf.math.multiply_77[0][0]']    \n",
            "                                                                                                  \n",
            " tf.__operators__.add_33 (TFOpL  (None, 2)           0           ['tf.math.multiply_74[0][0]',    \n",
            " ambda)                                                           'tf.math.multiply_75[0][0]']    \n",
            "                                                                                                  \n",
            " tf.math.subtract_26 (TFOpLambd  (None, 17, 2)       0           ['tf.math.subtract_24[0][0]',    \n",
            " a)                                                               'tf.broadcast_to_17[0][0]']     \n",
            "                                                                                                  \n",
            " tf.math.subtract_25 (TFOpLambd  (None, 2)           0           ['tf.__operators__.add_34[0][0]',\n",
            " a)                                                               'tf.__operators__.add_33[0][0]']\n",
            "                                                                                                  \n",
            " tf.compat.v1.gather_80 (TFOpLa  (17, 2)             0           ['tf.math.subtract_26[0][0]']    \n",
            " mbda)                                                                                            \n",
            "                                                                                                  \n",
            " tf.compat.v1.norm_16 (TFOpLamb  ()                  0           ['tf.math.subtract_25[0][0]']    \n",
            " da)                                                                                              \n",
            "                                                                                                  \n",
            " tf.compat.v1.norm_17 (TFOpLamb  (2,)                0           ['tf.compat.v1.gather_80[0][0]'] \n",
            " da)                                                                                              \n",
            "                                                                                                  \n",
            " tf.math.multiply_80 (TFOpLambd  ()                  0           ['tf.compat.v1.norm_16[0][0]']   \n",
            " a)                                                                                               \n",
            "                                                                                                  \n",
            " tf.math.reduce_max_8 (TFOpLamb  ()                  0           ['tf.compat.v1.norm_17[0][0]']   \n",
            " da)                                                                                              \n",
            "                                                                                                  \n",
            " tf.math.maximum_8 (TFOpLambda)  ()                  0           ['tf.math.multiply_80[0][0]',    \n",
            "                                                                  'tf.math.reduce_max_8[0][0]']   \n",
            "                                                                                                  \n",
            " tf.math.truediv_8 (TFOpLambda)  (None, 17, 2)       0           ['tf.math.subtract_24[0][0]',    \n",
            "                                                                  'tf.math.maximum_8[0][0]']      \n",
            "                                                                                                  \n",
            " flatten_8 (Flatten)            (None, 34)           0           ['tf.math.truediv_8[0][0]']      \n",
            "                                                                                                  \n",
            " dense_24 (Dense)               (None, 128)          4480        ['flatten_8[0][0]']              \n",
            "                                                                                                  \n",
            " dropout_16 (Dropout)           (None, 128)          0           ['dense_24[0][0]']               \n",
            "                                                                                                  \n",
            " dense_25 (Dense)               (None, 64)           8256        ['dropout_16[0][0]']             \n",
            "                                                                                                  \n",
            " dropout_17 (Dropout)           (None, 64)           0           ['dense_25[0][0]']               \n",
            "                                                                                                  \n",
            " dense_26 (Dense)               (None, 5)            325         ['dropout_17[0][0]']             \n",
            "                                                                                                  \n",
            "==================================================================================================\n",
            "Total params: 13,061\n",
            "Trainable params: 13,061\n",
            "Non-trainable params: 0\n",
            "__________________________________________________________________________________________________\n"
          ]
        }
      ],
      "source": [
        "# Define the model\n",
        "inputs = tf.keras.Input(shape=(51))\n",
        "embedding = landmarks_to_embedding(inputs)\n",
        "\n",
        "layer = keras.layers.Dense(128, activation=tf.nn.relu6)(embedding)\n",
        "layer = keras.layers.Dropout(0.3)(layer)\n",
        "layer = keras.layers.Dense(64, activation=tf.nn.relu6)(layer)\n",
        "layer = keras.layers.Dropout(0.4)(layer)\n",
        "outputs = keras.layers.Dense(len(class_names), activation=\"softmax\")(layer)\n",
        "\n",
        "model = keras.Model(inputs, outputs)\n",
        "model.summary()"
      ]
    },
    {
      "cell_type": "code",
      "execution_count": 91,
      "metadata": {
        "colab": {
          "base_uri": "https://localhost:8080/"
        },
        "id": "Ha6y_rS0kluH",
        "outputId": "e90843da-4cc8-4224-f52e-1c9f094e7fe7"
      },
      "outputs": [
        {
          "name": "stdout",
          "output_type": "stream",
          "text": [
            "Epoch 1/400\n",
            "10/11 [==========================>...] - ETA: 0s - loss: 1.6000 - accuracy: 0.2125 \n",
            "Epoch 1: val_accuracy improved from -inf to 0.10345, saving model to weights.best.hdf5\n",
            "11/11 [==============================] - 3s 83ms/step - loss: 1.5985 - accuracy: 0.2174 - val_loss: 1.6124 - val_accuracy: 0.1034\n",
            "Epoch 2/400\n",
            "11/11 [==============================] - ETA: 0s - loss: 1.5902 - accuracy: 0.2919\n",
            "Epoch 2: val_accuracy did not improve from 0.10345\n",
            "11/11 [==============================] - 0s 12ms/step - loss: 1.5902 - accuracy: 0.2919 - val_loss: 1.6157 - val_accuracy: 0.1034\n",
            "Epoch 3/400\n",
            "10/11 [==========================>...] - ETA: 0s - loss: 1.5855 - accuracy: 0.2688\n",
            "Epoch 3: val_accuracy did not improve from 0.10345\n",
            "11/11 [==============================] - 0s 13ms/step - loss: 1.5868 - accuracy: 0.2671 - val_loss: 1.6005 - val_accuracy: 0.1034\n",
            "Epoch 4/400\n",
            "11/11 [==============================] - ETA: 0s - loss: 1.5808 - accuracy: 0.2360\n",
            "Epoch 4: val_accuracy improved from 0.10345 to 0.34483, saving model to weights.best.hdf5\n",
            "11/11 [==============================] - 0s 25ms/step - loss: 1.5808 - accuracy: 0.2360 - val_loss: 1.5758 - val_accuracy: 0.3448\n",
            "Epoch 5/400\n",
            " 9/11 [=======================>......] - ETA: 0s - loss: 1.5612 - accuracy: 0.3750\n",
            "Epoch 5: val_accuracy did not improve from 0.34483\n",
            "11/11 [==============================] - 0s 12ms/step - loss: 1.5630 - accuracy: 0.3851 - val_loss: 1.5662 - val_accuracy: 0.3448\n",
            "Epoch 6/400\n",
            "11/11 [==============================] - ETA: 0s - loss: 1.5705 - accuracy: 0.3602\n",
            "Epoch 6: val_accuracy improved from 0.34483 to 0.44828, saving model to weights.best.hdf5\n",
            "11/11 [==============================] - 0s 17ms/step - loss: 1.5705 - accuracy: 0.3602 - val_loss: 1.5556 - val_accuracy: 0.4483\n",
            "Epoch 7/400\n",
            " 8/11 [====================>.........] - ETA: 0s - loss: 1.5421 - accuracy: 0.4062\n",
            "Epoch 7: val_accuracy improved from 0.44828 to 0.51724, saving model to weights.best.hdf5\n",
            "11/11 [==============================] - 0s 33ms/step - loss: 1.5397 - accuracy: 0.4161 - val_loss: 1.5308 - val_accuracy: 0.5172\n",
            "Epoch 8/400\n",
            "10/11 [==========================>...] - ETA: 0s - loss: 1.5367 - accuracy: 0.3688\n",
            "Epoch 8: val_accuracy did not improve from 0.51724\n",
            "11/11 [==============================] - 0s 16ms/step - loss: 1.5349 - accuracy: 0.3727 - val_loss: 1.4917 - val_accuracy: 0.4138\n",
            "Epoch 9/400\n",
            " 8/11 [====================>.........] - ETA: 0s - loss: 1.5013 - accuracy: 0.5391\n",
            "Epoch 9: val_accuracy did not improve from 0.51724\n",
            "11/11 [==============================] - 0s 14ms/step - loss: 1.5147 - accuracy: 0.4907 - val_loss: 1.4819 - val_accuracy: 0.4138\n",
            "Epoch 10/400\n",
            "11/11 [==============================] - ETA: 0s - loss: 1.4904 - accuracy: 0.4161\n",
            "Epoch 10: val_accuracy did not improve from 0.51724\n",
            "11/11 [==============================] - 0s 10ms/step - loss: 1.4904 - accuracy: 0.4161 - val_loss: 1.4700 - val_accuracy: 0.4138\n",
            "Epoch 11/400\n",
            " 8/11 [====================>.........] - ETA: 0s - loss: 1.4864 - accuracy: 0.4141\n",
            "Epoch 11: val_accuracy did not improve from 0.51724\n",
            "11/11 [==============================] - 0s 13ms/step - loss: 1.4800 - accuracy: 0.4534 - val_loss: 1.4235 - val_accuracy: 0.5172\n",
            "Epoch 12/400\n",
            "10/11 [==========================>...] - ETA: 0s - loss: 1.4453 - accuracy: 0.4938\n",
            "Epoch 12: val_accuracy improved from 0.51724 to 0.62069, saving model to weights.best.hdf5\n",
            "11/11 [==============================] - 0s 22ms/step - loss: 1.4438 - accuracy: 0.4969 - val_loss: 1.3806 - val_accuracy: 0.6207\n",
            "Epoch 13/400\n",
            "10/11 [==========================>...] - ETA: 0s - loss: 1.4566 - accuracy: 0.5063\n",
            "Epoch 13: val_accuracy improved from 0.62069 to 0.72414, saving model to weights.best.hdf5\n",
            "11/11 [==============================] - 0s 20ms/step - loss: 1.4547 - accuracy: 0.5093 - val_loss: 1.3653 - val_accuracy: 0.7241\n",
            "Epoch 14/400\n",
            " 7/11 [==================>...........] - ETA: 0s - loss: 1.4287 - accuracy: 0.5000\n",
            "Epoch 14: val_accuracy did not improve from 0.72414\n",
            "11/11 [==============================] - 0s 24ms/step - loss: 1.4371 - accuracy: 0.4845 - val_loss: 1.3604 - val_accuracy: 0.5172\n",
            "Epoch 15/400\n",
            " 7/11 [==================>...........] - ETA: 0s - loss: 1.4104 - accuracy: 0.5179\n",
            "Epoch 15: val_accuracy did not improve from 0.72414\n",
            "11/11 [==============================] - 0s 14ms/step - loss: 1.4026 - accuracy: 0.4907 - val_loss: 1.3249 - val_accuracy: 0.5862\n",
            "Epoch 16/400\n",
            "10/11 [==========================>...] - ETA: 0s - loss: 1.3998 - accuracy: 0.5312\n",
            "Epoch 16: val_accuracy did not improve from 0.72414\n",
            "11/11 [==============================] - 0s 25ms/step - loss: 1.3990 - accuracy: 0.5280 - val_loss: 1.2544 - val_accuracy: 0.5862\n",
            "Epoch 17/400\n",
            "10/11 [==========================>...] - ETA: 0s - loss: 1.3696 - accuracy: 0.5000\n",
            "Epoch 17: val_accuracy did not improve from 0.72414\n",
            "11/11 [==============================] - 0s 15ms/step - loss: 1.3648 - accuracy: 0.5031 - val_loss: 1.2324 - val_accuracy: 0.5517\n",
            "Epoch 18/400\n",
            "10/11 [==========================>...] - ETA: 0s - loss: 1.3483 - accuracy: 0.5312\n",
            "Epoch 18: val_accuracy did not improve from 0.72414\n",
            "11/11 [==============================] - 0s 25ms/step - loss: 1.3540 - accuracy: 0.5280 - val_loss: 1.1995 - val_accuracy: 0.5862\n",
            "Epoch 19/400\n",
            " 9/11 [=======================>......] - ETA: 0s - loss: 1.2994 - accuracy: 0.6250\n",
            "Epoch 19: val_accuracy improved from 0.72414 to 0.86207, saving model to weights.best.hdf5\n",
            "11/11 [==============================] - 0s 28ms/step - loss: 1.3082 - accuracy: 0.6087 - val_loss: 1.1842 - val_accuracy: 0.8621\n",
            "Epoch 20/400\n",
            "10/11 [==========================>...] - ETA: 0s - loss: 1.2928 - accuracy: 0.6313\n",
            "Epoch 20: val_accuracy did not improve from 0.86207\n",
            "11/11 [==============================] - 0s 14ms/step - loss: 1.2894 - accuracy: 0.6335 - val_loss: 1.1633 - val_accuracy: 0.6207\n",
            "Epoch 21/400\n",
            " 1/11 [=>............................] - ETA: 0s - loss: 1.2864 - accuracy: 0.3750\n",
            "Epoch 21: val_accuracy did not improve from 0.86207\n",
            "11/11 [==============================] - 0s 10ms/step - loss: 1.2953 - accuracy: 0.5280 - val_loss: 1.1452 - val_accuracy: 0.6207\n",
            "Epoch 22/400\n",
            " 7/11 [==================>...........] - ETA: 0s - loss: 1.2437 - accuracy: 0.5625\n",
            "Epoch 22: val_accuracy did not improve from 0.86207\n",
            "11/11 [==============================] - 0s 15ms/step - loss: 1.2646 - accuracy: 0.5528 - val_loss: 1.1182 - val_accuracy: 0.7586\n",
            "Epoch 23/400\n",
            "11/11 [==============================] - ETA: 0s - loss: 1.2298 - accuracy: 0.6460\n",
            "Epoch 23: val_accuracy did not improve from 0.86207\n",
            "11/11 [==============================] - 0s 23ms/step - loss: 1.2298 - accuracy: 0.6460 - val_loss: 1.0541 - val_accuracy: 0.8276\n",
            "Epoch 24/400\n",
            "10/11 [==========================>...] - ETA: 0s - loss: 1.2124 - accuracy: 0.6625\n",
            "Epoch 24: val_accuracy improved from 0.86207 to 0.96552, saving model to weights.best.hdf5\n",
            "11/11 [==============================] - 0s 28ms/step - loss: 1.2125 - accuracy: 0.6646 - val_loss: 1.0026 - val_accuracy: 0.9655\n",
            "Epoch 25/400\n",
            " 7/11 [==================>...........] - ETA: 0s - loss: 1.2053 - accuracy: 0.6429\n",
            "Epoch 25: val_accuracy did not improve from 0.96552\n",
            "11/11 [==============================] - 0s 15ms/step - loss: 1.1746 - accuracy: 0.6584 - val_loss: 0.9992 - val_accuracy: 0.8276\n",
            "Epoch 26/400\n",
            " 5/11 [============>.................] - ETA: 0s - loss: 1.0874 - accuracy: 0.7000\n",
            "Epoch 26: val_accuracy did not improve from 0.96552\n",
            "11/11 [==============================] - 0s 15ms/step - loss: 1.1609 - accuracy: 0.6522 - val_loss: 0.9575 - val_accuracy: 0.9310\n",
            "Epoch 27/400\n",
            " 7/11 [==================>...........] - ETA: 0s - loss: 1.1522 - accuracy: 0.7143\n",
            "Epoch 27: val_accuracy did not improve from 0.96552\n",
            "11/11 [==============================] - 0s 18ms/step - loss: 1.1523 - accuracy: 0.6957 - val_loss: 0.9331 - val_accuracy: 0.8621\n",
            "Epoch 28/400\n",
            " 8/11 [====================>.........] - ETA: 0s - loss: 1.1753 - accuracy: 0.6094\n",
            "Epoch 28: val_accuracy did not improve from 0.96552\n",
            "11/11 [==============================] - 0s 19ms/step - loss: 1.1410 - accuracy: 0.6584 - val_loss: 0.9178 - val_accuracy: 0.9655\n",
            "Epoch 29/400\n",
            " 6/11 [===============>..............] - ETA: 0s - loss: 1.1258 - accuracy: 0.6458\n",
            "Epoch 29: val_accuracy did not improve from 0.96552\n",
            "11/11 [==============================] - 0s 17ms/step - loss: 1.1102 - accuracy: 0.6522 - val_loss: 0.8459 - val_accuracy: 0.9310\n",
            "Epoch 30/400\n",
            " 7/11 [==================>...........] - ETA: 0s - loss: 1.0734 - accuracy: 0.7232\n",
            "Epoch 30: val_accuracy did not improve from 0.96552\n",
            "11/11 [==============================] - 0s 16ms/step - loss: 1.0681 - accuracy: 0.6957 - val_loss: 0.8405 - val_accuracy: 0.9310\n",
            "Epoch 31/400\n",
            "11/11 [==============================] - ETA: 0s - loss: 1.0999 - accuracy: 0.6522\n",
            "Epoch 31: val_accuracy did not improve from 0.96552\n",
            "11/11 [==============================] - 0s 14ms/step - loss: 1.0999 - accuracy: 0.6522 - val_loss: 0.8450 - val_accuracy: 0.9655\n",
            "Epoch 32/400\n",
            " 7/11 [==================>...........] - ETA: 0s - loss: 1.0695 - accuracy: 0.7054\n",
            "Epoch 32: val_accuracy did not improve from 0.96552\n",
            "11/11 [==============================] - 0s 21ms/step - loss: 1.0607 - accuracy: 0.6957 - val_loss: 0.8013 - val_accuracy: 0.8276\n",
            "Epoch 33/400\n",
            " 7/11 [==================>...........] - ETA: 0s - loss: 1.0139 - accuracy: 0.6964\n",
            "Epoch 33: val_accuracy did not improve from 0.96552\n",
            "11/11 [==============================] - 0s 15ms/step - loss: 1.0300 - accuracy: 0.6770 - val_loss: 0.7790 - val_accuracy: 0.8621\n",
            "Epoch 34/400\n",
            "10/11 [==========================>...] - ETA: 0s - loss: 0.9989 - accuracy: 0.7250\n",
            "Epoch 34: val_accuracy did not improve from 0.96552\n",
            "11/11 [==============================] - 0s 22ms/step - loss: 0.9982 - accuracy: 0.7205 - val_loss: 0.8211 - val_accuracy: 0.8621\n",
            "Epoch 35/400\n",
            " 8/11 [====================>.........] - ETA: 0s - loss: 1.0204 - accuracy: 0.6484\n",
            "Epoch 35: val_accuracy did not improve from 0.96552\n",
            "11/11 [==============================] - 0s 15ms/step - loss: 1.0053 - accuracy: 0.6584 - val_loss: 0.7669 - val_accuracy: 0.8621\n",
            "Epoch 36/400\n",
            " 7/11 [==================>...........] - ETA: 0s - loss: 1.0026 - accuracy: 0.6964\n",
            "Epoch 36: val_accuracy did not improve from 0.96552\n",
            "11/11 [==============================] - 0s 17ms/step - loss: 0.9688 - accuracy: 0.7081 - val_loss: 0.7057 - val_accuracy: 0.8966\n",
            "Epoch 37/400\n",
            " 9/11 [=======================>......] - ETA: 0s - loss: 0.9757 - accuracy: 0.7361\n",
            "Epoch 37: val_accuracy did not improve from 0.96552\n",
            "11/11 [==============================] - 0s 15ms/step - loss: 0.9694 - accuracy: 0.7516 - val_loss: 0.6745 - val_accuracy: 0.9310\n",
            "Epoch 38/400\n",
            " 1/11 [=>............................] - ETA: 0s - loss: 0.9755 - accuracy: 0.7500\n",
            "Epoch 38: val_accuracy did not improve from 0.96552\n",
            "11/11 [==============================] - 0s 11ms/step - loss: 0.9238 - accuracy: 0.7826 - val_loss: 0.6644 - val_accuracy: 0.9655\n",
            "Epoch 39/400\n",
            " 1/11 [=>............................] - ETA: 0s - loss: 1.0263 - accuracy: 0.7500\n",
            "Epoch 39: val_accuracy did not improve from 0.96552\n",
            "11/11 [==============================] - 0s 13ms/step - loss: 0.9008 - accuracy: 0.7888 - val_loss: 0.6362 - val_accuracy: 0.9655\n",
            "Epoch 40/400\n",
            " 8/11 [====================>.........] - ETA: 0s - loss: 0.8909 - accuracy: 0.7656\n",
            "Epoch 40: val_accuracy did not improve from 0.96552\n",
            "11/11 [==============================] - 0s 14ms/step - loss: 0.8981 - accuracy: 0.7578 - val_loss: 0.6106 - val_accuracy: 0.9655\n",
            "Epoch 41/400\n",
            " 7/11 [==================>...........] - ETA: 0s - loss: 0.8945 - accuracy: 0.7768\n",
            "Epoch 41: val_accuracy did not improve from 0.96552\n",
            "11/11 [==============================] - 0s 20ms/step - loss: 0.8915 - accuracy: 0.7888 - val_loss: 0.6123 - val_accuracy: 0.8966\n",
            "Epoch 42/400\n",
            " 9/11 [=======================>......] - ETA: 0s - loss: 0.8567 - accuracy: 0.8056\n",
            "Epoch 42: val_accuracy did not improve from 0.96552\n",
            "11/11 [==============================] - 0s 22ms/step - loss: 0.8442 - accuracy: 0.8199 - val_loss: 0.5880 - val_accuracy: 0.9310\n",
            "Epoch 43/400\n",
            "10/11 [==========================>...] - ETA: 0s - loss: 0.8856 - accuracy: 0.7312\n",
            "Epoch 43: val_accuracy did not improve from 0.96552\n",
            "11/11 [==============================] - 0s 13ms/step - loss: 0.8801 - accuracy: 0.7329 - val_loss: 0.5661 - val_accuracy: 0.9655\n",
            "Epoch 44/400\n",
            " 8/11 [====================>.........] - ETA: 0s - loss: 0.8270 - accuracy: 0.7734\n",
            "Epoch 44: val_accuracy did not improve from 0.96552\n",
            "11/11 [==============================] - 0s 15ms/step - loss: 0.8404 - accuracy: 0.7578 - val_loss: 0.5347 - val_accuracy: 0.9655\n"
          ]
        }
      ],
      "source": [
        "model.compile(\n",
        "    optimizer='adam',\n",
        "    loss='categorical_crossentropy',\n",
        "    metrics=['accuracy']\n",
        ")\n",
        "\n",
        "# Add a checkpoint callback to store the checkpoint that has the highest\n",
        "# validation accuracy.\n",
        "checkpoint_path = \"weights.best.hdf5\"\n",
        "checkpoint = keras.callbacks.ModelCheckpoint(checkpoint_path,\n",
        "                             monitor='val_accuracy',\n",
        "                             verbose=1,\n",
        "                             save_best_only=True,\n",
        "                             mode='max')\n",
        "earlystopping = keras.callbacks.EarlyStopping(monitor='val_accuracy', \n",
        "                                              patience=20)\n",
        "\n",
        "# Start training\n",
        "history = model.fit(X_train, y_train,\n",
        "                    epochs=400,\n",
        "                    batch_size=16,\n",
        "                    validation_data=(X_val, y_val),\n",
        "                    callbacks=[checkpoint, earlystopping])"
      ]
    },
    {
      "cell_type": "code",
      "execution_count": 92,
      "metadata": {
        "colab": {
          "base_uri": "https://localhost:8080/",
          "height": 295
        },
        "id": "N5LFqXjCknKH",
        "outputId": "25653e1e-8f3a-4786-f2e5-ca5e01295edf"
      },
      "outputs": [
        {
          "data": {
            "image/png": "[encoded data removed]",
            "text/plain": [
              "<Figure size 432x288 with 1 Axes>"
            ]
          },
          "metadata": {
            "needs_background": "light"
          },
          "output_type": "display_data"
        }
      ],
      "source": [
        "# Visualize the training history to see whether you're overfitting.\n",
        "plt.plot(history.history['accuracy'])\n",
        "plt.plot(history.history['val_accuracy'])\n",
        "plt.title('Model accuracy')\n",
        "plt.ylabel('accuracy')\n",
        "plt.xlabel('epoch')\n",
        "plt.legend(['TRAIN', 'VAL'], loc='lower right')\n",
        "plt.show()"
      ]
    },
    {
      "cell_type": "code",
      "execution_count": 93,
      "metadata": {
        "colab": {
          "base_uri": "https://localhost:8080/"
        },
        "id": "y2nkgkn2kpDB",
        "outputId": "53223415-be67-4078-fa42-47007a80b5ec"
      },
      "outputs": [
        {
          "name": "stdout",
          "output_type": "stream",
          "text": [
            "2/2 [==============================] - 0s 7ms/step - loss: 0.8446 - accuracy: 0.8548\n"
          ]
        }
      ],
      "source": [
        "# Evaluate the model using the TEST dataset\n",
        "loss, accuracy = model.evaluate(X_test, y_test)"
      ]
    },
    {
      "cell_type": "markdown",
      "metadata": {
        "id": "Th3N5-Pekt1T"
      },
      "source": [
        "#### Convert the Pose Classification model to TensorFlow Lite\n",
        "The Keras pose classification model is converted to TensorFlow Lite model. This reduces its size upto 4x times with very less loss in accuracy. This process is called **Quantization**. \n",
        "\n",
        "Being light-weight, this TF Lite model can then deployed to mobile applications, web browsers and IoT devices."
      ]
    },
    {
      "cell_type": "code",
      "execution_count": 94,
      "metadata": {
        "colab": {
          "base_uri": "https://localhost:8080/"
        },
        "id": "T-8G78THk2Se",
        "outputId": "c176efd9-5964-4bca-ee56-e20b0e04e954"
      },
      "outputs": [
        {
          "name": "stdout",
          "output_type": "stream",
          "text": [
            "Model size: 26KB\n"
          ]
        }
      ],
      "source": [
        "converter = tf.lite.TFLiteConverter.from_keras_model(model)\n",
        "converter.optimizations = [tf.lite.Optimize.DEFAULT]\n",
        "tflite_model = converter.convert()\n",
        "\n",
        "print('Model size: %dKB' % (len(tflite_model) / 1024))\n",
        "\n",
        "with open('pose_classifier.tflite', 'wb') as f:\n",
        "  f.write(tflite_model)"
      ]
    },
    {
      "cell_type": "markdown",
      "metadata": {
        "id": "HCQo1oGUlThU"
      },
      "source": [
        "Write the label file which contains mapping from the class indexes to the human readable class names."
      ]
    },
    {
      "cell_type": "code",
      "execution_count": 95,
      "metadata": {
        "id": "Wy_25cBtlWSs"
      },
      "outputs": [],
      "source": [
        "with open('pose_labels.txt', 'w') as f:\n",
        "  f.write('\\n'.join(class_names))"
      ]
    },
    {
      "cell_type": "markdown",
      "metadata": {
        "id": "Vgq8U50clifl"
      },
      "source": [
        "#### Evaluate the quantized TF Lite model"
      ]
    },
    {
      "cell_type": "code",
      "execution_count": 96,
      "metadata": {
        "colab": {
          "base_uri": "https://localhost:8080/"
        },
        "id": "jwF6ThyBlkx1",
        "outputId": "80e6c985-f53d-4375-cee6-92b64c62cbd3"
      },
      "outputs": [
        {
          "name": "stdout",
          "output_type": "stream",
          "text": [
            "Accuracy of TFLite model: 0.9032258064516129\n"
          ]
        }
      ],
      "source": [
        "def evaluate_model(interpreter, X, y_true):\n",
        "  \"\"\"Evaluates the given TFLite model and return its accuracy.\"\"\"\n",
        "  input_index = interpreter.get_input_details()[0][\"index\"]\n",
        "  output_index = interpreter.get_output_details()[0][\"index\"]\n",
        "\n",
        "  # Run predictions on all given poses.\n",
        "  y_pred = []\n",
        "  for i in range(len(y_true)):\n",
        "    # Pre-processing: add batch dimension and convert to float32 to match with\n",
        "    # the model's input data format.\n",
        "    test_image = X[i: i + 1].astype('float32')\n",
        "    interpreter.set_tensor(input_index, test_image)\n",
        "\n",
        "    # Run inference.\n",
        "    interpreter.invoke()\n",
        "\n",
        "    # Post-processing: remove batch dimension and find the class with highest\n",
        "    # probability.\n",
        "    output = interpreter.tensor(output_index)\n",
        "    predicted_label = np.argmax(output()[0])\n",
        "    y_pred.append(predicted_label)\n",
        "\n",
        "  # Compare prediction results with ground truth labels to calculate accuracy.\n",
        "  y_pred = keras.utils.to_categorical(y_pred)\n",
        "  return accuracy_score(y_true, y_pred)\n",
        "\n",
        "# Evaluate the accuracy of the converted TFLite model\n",
        "classifier_interpreter = tf.lite.Interpreter(model_content=tflite_model)\n",
        "classifier_interpreter.allocate_tensors()\n",
        "print('Accuracy of TFLite model: %s' %\n",
        "      evaluate_model(classifier_interpreter, X_test, y_test))"
      ]
    },
    {
      "cell_type": "markdown",
      "metadata": {
        "id": "UBehHkkAlvGE"
      },
      "source": [
        "Download the TF Lite model ```(pose_classifier.tflite)``` and the label file ```(pose_labels.txt)```"
      ]
    },
    {
      "cell_type": "code",
      "execution_count": 97,
      "metadata": {
        "colab": {
          "base_uri": "https://localhost:8080/"
        },
        "id": "muBckJHWl33W",
        "outputId": "d5397b28-abb9-4120-aeed-2d869f414100"
      },
      "outputs": [
        {
          "name": "stdout",
          "output_type": "stream",
          "text": [
            "updating: pose_labels.txt (stored 0%)\n",
            "updating: pose_classifier.tflite (deflated 35%)\n"
          ]
        }
      ],
      "source": [
        "!zip pose_classifier.zip pose_labels.txt pose_classifier.tflite"
      ]
    },
    {
      "cell_type": "code",
      "execution_count": 98,
      "metadata": {
        "colab": {
          "base_uri": "https://localhost:8080/",
          "height": 17
        },
        "id": "XZfIkvi-l5o4",
        "outputId": "92854635-5c40-4309-c2ea-2e5ddc6ce770"
      },
      "outputs": [
        {
          "data": {
            "application/javascript": "\n    async function download(id, filename, size) {\n      if (!google.colab.kernel.accessAllowed) {\n        return;\n      }\n      const div = document.createElement('div');\n      const label = document.createElement('label');\n      label.textContent = `Downloading \"${filename}\": `;\n      div.appendChild(label);\n      const progress = document.createElement('progress');\n      progress.max = size;\n      div.appendChild(progress);\n      document.body.appendChild(div);\n\n      const buffers = [];\n      let downloaded = 0;\n\n      const channel = await google.colab.kernel.comms.open(id);\n      // Send a message to notify the kernel that we're ready.\n      channel.send({})\n\n      for await (const message of channel.messages) {\n        // Send a message to notify the kernel that we're ready.\n        channel.send({})\n        if (message.buffers) {\n          for (const buffer of message.buffers) {\n            buffers.push(buffer);\n            downloaded += buffer.byteLength;\n            progress.value = downloaded;\n          }\n        }\n      }\n      const blob = new Blob(buffers, {type: 'application/binary'});\n      const a = document.createElement('a');\n      a.href = window.URL.createObjectURL(blob);\n      a.download = filename;\n      div.appendChild(a);\n      a.click();\n      div.remove();\n    }\n  ",
            "text/plain": [
              "<IPython.core.display.Javascript object>"
            ]
          },
          "metadata": {},
          "output_type": "display_data"
        },
        {
          "data": {
            "application/javascript": "download(\"download_efb346e0-dec1-43cb-8a39-235f6ceaedc1\", \"pose_classifier.zip\", 18358)",
            "text/plain": [
              "<IPython.core.display.Javascript object>"
            ]
          },
          "metadata": {},
          "output_type": "display_data"
        }
      ],
      "source": [
        "# Download the zip archive if running on Colab.\n",
        "try:\n",
        "  from google.colab import files\n",
        "  files.download('pose_classifier.zip')\n",
        "except:\n",
        "  pass"
      ]
    }
  ],
  "metadata": {
    "colab": {
      "collapsed_sections": [
        "PSvPDh8NdRFh",
        "5HsgVJDwdbCv",
        "CKbrsPCKd4gu",
        "FlfYZQrld-vS",
        "i-XWzm-MfdJt",
        "9nIXUpaCjps0",
        "xHjbVq7cj2OY",
        "3eGMupIUkBs3",
        "wDF6d8O3kWly"
      ],
      "provenance": []
    },
    "kernelspec": {
      "display_name": "Python 3.10.6 64-bit",
      "language": "python",
      "name": "python3"
    },
    "language_info": {
      "name": "python",
      "version": "3.10.6"
    },
    "vscode": {
      "interpreter": {
        "hash": "916dbcbb3f70747c44a77c7bcd40155683ae19c65e1c03b4aa3499c5328201f1"
      }
    }
  },
  "nbformat": 4,
  "nbformat_minor": 0
}
